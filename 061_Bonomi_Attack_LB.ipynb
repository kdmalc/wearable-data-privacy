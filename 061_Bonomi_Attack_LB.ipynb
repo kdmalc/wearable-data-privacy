{
 "cells": [
  {
   "cell_type": "code",
   "execution_count": 1,
   "id": "d264c4d0",
   "metadata": {},
   "outputs": [],
   "source": [
    "import pandas as pd\n",
    "import numpy as np\n",
    "import matplotlib.pyplot as plt\n",
    "import random\n",
    "from scipy.special import rel_entr"
   ]
  },
  {
   "cell_type": "code",
   "execution_count": 2,
   "id": "74f8490c",
   "metadata": {},
   "outputs": [],
   "source": [
    "################## DATA FRAME ##################\n",
    "datafile = 'Data/Fitbit_Kaggle/dailyActivity_merged.csv'\n",
    "all_fields = ['Id', 'ActivityDate', 'TotalSteps', 'TotalDistance', 'TrackerDistance', \n",
    "          'VeryActiveDistance', 'ModeratelyActiveDistance', 'LightActiveDistance', 'SedentaryActiveDistance', \n",
    "          'VeryActiveMinutes', 'FairlyActiveMinutes', 'LightlyActiveMinutes', 'SedentaryMinutes', 'Calories']\n",
    "\n",
    "#pd.set_option('display.max_rows', 100)\n",
    "df = pd.read_csv(datafile, skipinitialspace=True, usecols=all_fields)\n",
    "fields = 'FairlyActiveMinutes'\n",
    "selected_data = df[['Id',fields]]\n",
    "n_rows, n_cols = df.shape"
   ]
  },
  {
   "cell_type": "code",
   "execution_count": 3,
   "id": "e39c768c",
   "metadata": {},
   "outputs": [
    {
     "data": {
      "text/html": [
       "<div>\n",
       "<style scoped>\n",
       "    .dataframe tbody tr th:only-of-type {\n",
       "        vertical-align: middle;\n",
       "    }\n",
       "\n",
       "    .dataframe tbody tr th {\n",
       "        vertical-align: top;\n",
       "    }\n",
       "\n",
       "    .dataframe thead th {\n",
       "        text-align: right;\n",
       "    }\n",
       "</style>\n",
       "<table border=\"1\" class=\"dataframe\">\n",
       "  <thead>\n",
       "    <tr style=\"text-align: right;\">\n",
       "      <th></th>\n",
       "      <th>Id</th>\n",
       "      <th>FairlyActiveMinutes</th>\n",
       "    </tr>\n",
       "  </thead>\n",
       "  <tbody>\n",
       "    <tr>\n",
       "      <th>0</th>\n",
       "      <td>1503960366</td>\n",
       "      <td>13</td>\n",
       "    </tr>\n",
       "    <tr>\n",
       "      <th>1</th>\n",
       "      <td>1503960366</td>\n",
       "      <td>19</td>\n",
       "    </tr>\n",
       "    <tr>\n",
       "      <th>2</th>\n",
       "      <td>1503960366</td>\n",
       "      <td>11</td>\n",
       "    </tr>\n",
       "    <tr>\n",
       "      <th>3</th>\n",
       "      <td>1503960366</td>\n",
       "      <td>34</td>\n",
       "    </tr>\n",
       "    <tr>\n",
       "      <th>4</th>\n",
       "      <td>1503960366</td>\n",
       "      <td>10</td>\n",
       "    </tr>\n",
       "  </tbody>\n",
       "</table>\n",
       "</div>"
      ],
      "text/plain": [
       "           Id  FairlyActiveMinutes\n",
       "0  1503960366                   13\n",
       "1  1503960366                   19\n",
       "2  1503960366                   11\n",
       "3  1503960366                   34\n",
       "4  1503960366                   10"
      ]
     },
     "execution_count": 3,
     "metadata": {},
     "output_type": "execute_result"
    }
   ],
   "source": [
    "selected_data.head()"
   ]
  },
  {
   "cell_type": "code",
   "execution_count": 4,
   "id": "e670f502",
   "metadata": {},
   "outputs": [],
   "source": [
    "all_IDs = df.Id.unique()\n",
    "num_users = len(all_IDs)\n",
    "\n",
    "user_dict = dict()\n",
    "for idx, user in enumerate(all_IDs):\n",
    "    temp_df = df.loc[df['Id'] == user]\n",
    "    user_dict[user] = temp_df[fields].values"
   ]
  },
  {
   "cell_type": "code",
   "execution_count": 5,
   "id": "47fef0c2",
   "metadata": {},
   "outputs": [],
   "source": [
    "test_IDs = all_IDs[[0, 1]]  # [0, 5, 6, 10, 11, 15, 16, 20, 25, 30]\n",
    "training_IDs = [ID for ID in all_IDs if ID not in test_IDs]\n",
    "attack_IDs = list(test_IDs) + list(training_IDs[0:2])\n",
    "\n",
    "ths = [0,2,5]"
   ]
  },
  {
   "cell_type": "code",
   "execution_count": 6,
   "id": "2ceb3473",
   "metadata": {},
   "outputs": [
    {
     "name": "stdout",
     "output_type": "stream",
     "text": [
      "[1503960366 1624580081]\n",
      "\n",
      "[13 19 11 34 10 20 16 31 12  8 27 21  5 14 23 11 28 12 34 35 15 24 22 24\n",
      "  6 46  8 11 31 23  0]\n",
      "\n",
      "[ 0  0  0  0  0  8 12  0  0 13  0  0  0  0  0  0  0  0  0  7  0  0  0  0\n",
      "  0  0  0  0  0  0  0]\n"
     ]
    }
   ],
   "source": [
    "print(test_IDs)\n",
    "print()\n",
    "print(user_dict[test_IDs[0]])\n",
    "print()\n",
    "print(user_dict[training_IDs[1]])"
   ]
  },
  {
   "cell_type": "code",
   "execution_count": 7,
   "id": "d898a85f",
   "metadata": {},
   "outputs": [
    {
     "name": "stdout",
     "output_type": "stream",
     "text": [
      "[51 16 58  4 42 13 33 58  0  0  0 15  0  1 41  0 53  0 71 24  7 94  0 12\n",
      "  6 17  0  6 19  0]\n",
      "30\n",
      "1644430081\n",
      "[ 0  0  0  0  0  8 12  0  0 13  0  0  0  0  0  0  0  0  0  7  0  0  0  0\n",
      "  0  0  0  0  0  0  0]\n",
      "31\n",
      "1844505072\n",
      "[0 0 9 0 0 0 0 0 0 0 0 0 6 0 0 0 0 0 0 1 8 0 0 0 0 0 0 0 0 0 0]\n",
      "31\n",
      "1927972279\n",
      "[14  5  3  9 11 29  3  7 63 53 10  0 26  8 24 20 20 40 23 28  8 14 27 20\n",
      " 17  2  0 47 28 25 16]\n",
      "31\n",
      "2022484408\n",
      "[8 0 0 0 0 0 0 0 0 0 0 0 0 0 0 0 0 0 0 0 0 0 0 0 0 0 0 0 0 0 0]\n",
      "31\n",
      "2026352035\n",
      "[ 9  0  0  0  0  0  7 11 11 10  0  0  0  5  0  0  0  0  0  0  6 10  0 11\n",
      "  0  0  0  0  0  0  0]\n",
      "31\n",
      "2320127002\n",
      "[13 32 48 24 72  7 16  7 43 26 27 35  0 11  0  9  0  0]\n",
      "18\n",
      "2347167796\n",
      "[21  8  0  0  1  8  6  0  5 10  0  5  1  0  5  0  7 23 20 18  7  6  0 23\n",
      "  5 11  0  0  0  0  0]\n",
      "31\n",
      "2873212765\n",
      "[ 0  8 25  0  0  2  7  0  3  9  0  2  7  0  2 13  0  0  4  0]\n",
      "20\n",
      "3372868164\n",
      "[ 19  46  23  42  83  58  95  67  98   0  12  92  95   9  95  10   8  32\n",
      "  52  40 143  41  96  88  55  86 116 122 115   0]\n",
      "30\n",
      "3977333714\n",
      "[15  0  0 18 21  0  0  0  0  0  0  0  0  0  0  0  0  0  0  0 11  0 46 42\n",
      "  0  0  0  5  0  8  0]\n",
      "31\n",
      "4020332650\n",
      "[0 0 0 6]\n",
      "4\n",
      "4057192912\n",
      "[ 0 15  9  0  0  0  9  0 18  0 19  0  5  8 21 47  8 18 38  0 11 26 13 34\n",
      " 11 28  0 14 12 18  0]\n",
      "31\n",
      "4319703577\n",
      "[ 0 14 35  0  9  0  8 16 42 12 25  5  8 31 23 48  9 16 43 15  4 18 21 39\n",
      " 45 56 38 19 14 18  0]\n",
      "31\n",
      "4388161847\n",
      "[ 0  0  0  0  0  0  6  0  0  0  0  0  0  0  1  1  0  0  0  0  4  2  0  6\n",
      "  0  4  8  0  0 22  0]\n",
      "31\n",
      "4445114986\n",
      "[ 0  7  0 30 12 19 15  9  0 21 25  5  0 10 41 14 11 29 29  0  0 10  0  8\n",
      "  0 16 35 30 18 31  0]\n",
      "31\n",
      "4558609924\n",
      "[  0   0   0   8  24  66  30   8  29  41   0  66  95  15   8  16   9  19\n",
      "  36   0  40   0  15   5  16  46 125  12  37  41   0]\n",
      "31\n",
      "4702921684\n",
      "[13  0 41 38  0  0  0 28  0 42 16  0  0 11 18 16 13 15  0  0  9 29  0 29\n",
      "  9  0  8 22 40  0  6]\n",
      "31\n",
      "5553957443\n",
      "[16 11 30 54 56 37 32 23 16 74 30 24 65 38 32 16 51 36 45 72 20  8  9 21\n",
      " 16  0  0 11 37 15]\n",
      "30\n",
      "5577150313\n",
      "[ 0  0  0  6 15  0  0  0 10 19  0  0  0  0  7  0  0  0  0  0  0  0  0  0\n",
      "  0  0  0  0]\n",
      "28\n",
      "6117666160\n",
      "[ 0  0  0  0  0 12  0  0  0  0  0  0  0  3  0  0  0  0  0 95  0  0  0  0\n",
      "  0  0  0  0  0]\n",
      "29\n",
      "6290855005\n",
      "[  0  18  24   0  18  24  31   0 113   0   0   0  18  13  30   0  13   0\n",
      "   9  34   0   0   0   0  35   5]\n",
      "26\n",
      "6775888955\n",
      "[14 24  0  0  3 13 42 41  4 27 33 41  0 31  7 38  8 15 16  0 39 36 36 22\n",
      "  0  0 14 21 34  7  8]\n",
      "31\n",
      "6962181067\n",
      "[ 8 22  6  0  0  0 31 17 33 34 50 25  0 24 22 12 16 42  0  0 14 31  0 23\n",
      " 13  0]\n",
      "26\n",
      "7007744171\n",
      "[ 6 26 32 21  0  0 51 69 13  6 59  0  0 39 33  6 48 36 17 15 26 36 12 14\n",
      " 35 42 27 50 23 40  4]\n",
      "31\n",
      "7086361926\n",
      "[ 8 12  5  8  6 21  6  7  5  6  3 14 33  9  5 10  9  8  1  0  0 22  8  9\n",
      " 15 20 14 12 10  7  4]\n",
      "31\n",
      "8053475328\n",
      "[ 2 11 16  0 51  5 16  0 18 20  0 26  4 54 14  5 16 14  0]\n",
      "19\n",
      "8253242879\n",
      "[15 14 21 23 21  0 10 19  8 16 12 10  0 16 18  4 10  7  0 10  4 20 10  3\n",
      "  5  0  0 13 13 10  6]\n",
      "31\n",
      "8378563200\n",
      "[ 7 23  0  0  0  0 22 10 27 18 54 44 44  6 91  5 28 67 28  2  0  0  0  0\n",
      " 22  0 72  4 43 71  0]\n",
      "31\n",
      "8583815059\n",
      "[ 0  0  0  0  0  0  0  0 10  0 20 45  8  0  0  0  0 14 20  0  0  0  0  0\n",
      "  0  0  0  0  0]\n",
      "29\n",
      "8792009665\n",
      "[ 7 18 13  1 29 15  5 13 19 13  2  6  1  8  3  8  8  5  4 12  0  3  8 15\n",
      " 17 28  4 19 11 12  1]\n",
      "31\n",
      "8877689391\n"
     ]
    }
   ],
   "source": [
    "for ID in training_IDs:\n",
    "    print(user_dict[ID])\n",
    "    print(len(user_dict[ID]))\n",
    "    print(ID)"
   ]
  },
  {
   "cell_type": "code",
   "execution_count": 8,
   "id": "d76f3627",
   "metadata": {},
   "outputs": [],
   "source": [
    "max_elements = 31\n",
    "k_vec = list(range(1,31))\n",
    "k_vec = [1,5,10,15,20,25,30]\n",
    "\n",
    "data_storage = np.zeros((len(attack_IDs), len(training_IDs), len(ths), max_elements, len(k_vec)))"
   ]
  },
  {
   "cell_type": "code",
   "execution_count": 9,
   "id": "10ba2dc6",
   "metadata": {},
   "outputs": [],
   "source": [
    "def isMatch(v1,v2,k,th):\n",
    "    '''\n",
    "    Are a match is there is a common k-subsequence that is matched with L1 dist <= th\n",
    "    '''\n",
    "    \n",
    "    # If len(v1)=31 and k=31, then this is range(0,1) ---- k <= len(v1)\n",
    "    for i in range(0,len(v1)-k+1):\n",
    "        #print(i)\n",
    "        a = np.array([v1[i:i+k]])\n",
    "        for j in range(0,len(v2)-k+1):\n",
    "            b = np.array([v2[i:i+k]])\n",
    "            \n",
    "            #print(f\"{i, j}: Shape A: {a.shape}, Shape B: {b.shape}\")\n",
    "            # Should I zero pad b, truncate a, or just return false?\n",
    "            while (a.shape[1] > b.shape[1]):\n",
    "                #print(f\"{a.shape[1]} > {b.shape[1]}\")\n",
    "                b = np.append(b, 0)\n",
    "                #\n",
    "                b = np.reshape(b, (1, len(b)))\n",
    "                #try:\n",
    "                #    print(f\"{a.shape[1]} > {b.shape[1]}?\")\n",
    "                #except IndexError:\n",
    "                #    b = np.reshape(b, (1, len(b)))\n",
    "                #    print(f\"{a.shape[1]} > {b.shape[1]}?\")\n",
    "                #print()\n",
    "            \n",
    "            if (np.linalg.norm((a - b), ord=1) <= th):\n",
    "                return True\n",
    "            \n",
    "    return False"
   ]
  },
  {
   "cell_type": "code",
   "execution_count": 10,
   "id": "1cdfb23e",
   "metadata": {},
   "outputs": [
    {
     "name": "stdout",
     "output_type": "stream",
     "text": [
      "1644430081 vs 1644430081 is a Match\n",
      "1644430081 vs 1644430081 is a Match\n",
      "1644430081 vs 1644430081 is a Match\n",
      "1844505072 vs 1844505072 is a Match\n",
      "1844505072 vs 1844505072 is a Match\n",
      "1844505072 vs 1844505072 is a Match\n"
     ]
    }
   ],
   "source": [
    "matching_matrix = np.zeros((len(attack_IDs), len(training_IDs), len(ths)))\n",
    "for i, attack_ID in enumerate(attack_IDs):\n",
    "    v1 = user_dict[attack_ID]\n",
    "    k = len(v1) #len of the subsequence in the attack vector -> k =len(v1) means match the whole vector\n",
    "    \n",
    "    for j, training_ID in enumerate(training_IDs[:2]):\n",
    "        #for k, training_value in enumerate(user_dict[training_ID]):\n",
    "        v2 = user_dict[training_ID]\n",
    "        \n",
    "        for l, th in enumerate(ths):\n",
    "            if (isMatch(v1,v2,k,th)):\n",
    "                print(str(attack_ID) + \" vs \" + str(training_ID) + \" is a Match\")\n",
    "                matching_matrix[i,j,l] = 1\n",
    "           "
   ]
  },
  {
   "cell_type": "code",
   "execution_count": 11,
   "id": "8720f5e9",
   "metadata": {},
   "outputs": [],
   "source": [
    "matching_matrix = np.zeros((len(attack_IDs), len(training_IDs), len(ths), len(k_vec)))\n",
    "for i, attack_ID in enumerate(attack_IDs):\n",
    "    v1 = user_dict[attack_ID]\n",
    "    for k_idx, k in enumerate(k_vec):\n",
    "        #print(k)\n",
    "        for j, training_ID in enumerate(training_IDs[:2]):\n",
    "            #for k, training_value in enumerate(user_dict[training_ID]):\n",
    "            v2 = user_dict[training_ID]\n",
    "\n",
    "            for l, th in enumerate(ths):\n",
    "                if (isMatch(v1,v2,k,th)):\n",
    "                    #print(str(attack_ID) + \" vs \" + str(training_ID) + \" is a Match\")\n",
    "                    matching_matrix[i,j,l,k_idx] = 1\n",
    "            #print()"
   ]
  },
  {
   "cell_type": "code",
   "execution_count": 12,
   "id": "a7bec321",
   "metadata": {},
   "outputs": [
    {
     "name": "stdout",
     "output_type": "stream",
     "text": [
      "Th=0, k=1: Correct number of positives found (2)!\n",
      "Th=0, k=5: Correct number of positives found (2)!\n",
      "Th=0, k=10: Correct number of positives found (2)!\n",
      "Th=0, k=15: Correct number of positives found (2)!\n",
      "Th=0, k=20: Correct number of positives found (2)!\n",
      "Th=0, k=25: Correct number of positives found (2)!\n",
      "Th=0, k=30: Correct number of positives found (2)!\n",
      "Th=2, k=1: Correct number of positives found (2)!\n",
      "Th=2, k=5: Correct number of positives found (2)!\n",
      "Th=2, k=10: Correct number of positives found (2)!\n",
      "Th=2, k=15: Correct number of positives found (2)!\n",
      "Th=2, k=20: Correct number of positives found (2)!\n",
      "Th=2, k=25: Correct number of positives found (2)!\n",
      "Th=2, k=30: Correct number of positives found (2)!\n",
      "Th=5, k=1: Correct number of positives found (2)!\n",
      "Th=5, k=5: Correct number of positives found (2)!\n",
      "Th=5, k=10: Correct number of positives found (2)!\n",
      "Th=5, k=15: Correct number of positives found (2)!\n",
      "Th=5, k=20: Correct number of positives found (2)!\n",
      "Th=5, k=25: Correct number of positives found (2)!\n",
      "Th=5, k=30: Correct number of positives found (2)!\n"
     ]
    }
   ],
   "source": [
    "n_attack_training = len(attack_IDs) - len(test_IDs)\n",
    "true_positives = np.zeros((len(ths), len(k_vec)))\n",
    "false_negatives = np.zeros((len(ths), len(k_vec)))\n",
    "\n",
    "for attack_idx, attack_ID in enumerate(attack_IDs):\n",
    "    if attack_ID in training_IDs:\n",
    "        label_idx = training_IDs.index(attack_ID)\n",
    "        for j in range(len(ths)):\n",
    "            for k_idx in range(len(k_vec)):\n",
    "                if matching_matrix[attack_idx, label_idx, j, k_idx] == 1:\n",
    "                    true_positives[j, k_idx] += 1\n",
    "                else:\n",
    "                    false_negatives[j, k_idx] += 1                    \n",
    "                    \n",
    "for j in range(len(ths)):\n",
    "    for k_idx in range(len(k_vec)):\n",
    "        #print(f\"{j}, {k_idx}\")\n",
    "        if true_positives[j, k_idx] == n_attack_training:\n",
    "            # Note that this is not necessarily mean all of them were true positives\n",
    "            print(f\"Th={ths[j]}, k={k_vec[k_idx]}: Correct number of positives found ({int(true_positives[j, k_idx])})!\")\n",
    "        else:\n",
    "            print(f\"Th={ths[j]}, k={k_vec[k_idx]}: Incorrect number of positives... found ({int(true_positives[j, k_idx])}) vs expected ({n_attack_training})\")"
   ]
  },
  {
   "cell_type": "code",
   "execution_count": 16,
   "id": "a41d88f6",
   "metadata": {
    "scrolled": true
   },
   "outputs": [
    {
     "name": "stdout",
     "output_type": "stream",
     "text": [
      "Th=0, k=1: Precision of 25.00\n",
      "Th=0, k=1: Recall of 100.00\n",
      "Th=0, k=1: Accuracy of 99.77\n",
      "\n",
      "Th=0, k=5: Precision of 66.67\n",
      "Th=0, k=5: Recall of 100.00\n",
      "Th=0, k=5: Accuracy of 99.96\n",
      "\n",
      "Th=0, k=10: Precision of 66.67\n",
      "Th=0, k=10: Recall of 100.00\n",
      "Th=0, k=10: Accuracy of 99.96\n",
      "\n",
      "Th=0, k=15: Precision of 100.00\n",
      "Th=0, k=15: Recall of 100.00\n",
      "Th=0, k=15: Accuracy of 100.00\n",
      "\n",
      "Th=0, k=20: Precision of 100.00\n",
      "Th=0, k=20: Recall of 100.00\n",
      "Th=0, k=20: Accuracy of 100.00\n",
      "\n",
      "Th=0, k=25: Precision of 100.00\n",
      "Th=0, k=25: Recall of 100.00\n",
      "Th=0, k=25: Accuracy of 100.00\n",
      "\n",
      "Th=0, k=30: Precision of 100.00\n",
      "Th=0, k=30: Recall of 100.00\n",
      "Th=0, k=30: Accuracy of 100.00\n",
      "\n",
      "Th=2, k=1: Precision of 25.00\n",
      "Th=2, k=1: Recall of 100.00\n",
      "Th=2, k=1: Accuracy of 99.77\n",
      "\n",
      "Th=2, k=5: Precision of 66.67\n",
      "Th=2, k=5: Recall of 100.00\n",
      "Th=2, k=5: Accuracy of 99.96\n",
      "\n",
      "Th=2, k=10: Precision of 66.67\n",
      "Th=2, k=10: Recall of 100.00\n",
      "Th=2, k=10: Accuracy of 99.96\n",
      "\n",
      "Th=2, k=15: Precision of 100.00\n",
      "Th=2, k=15: Recall of 100.00\n",
      "Th=2, k=15: Accuracy of 100.00\n",
      "\n",
      "Th=2, k=20: Precision of 100.00\n",
      "Th=2, k=20: Recall of 100.00\n",
      "Th=2, k=20: Accuracy of 100.00\n",
      "\n",
      "Th=2, k=25: Precision of 100.00\n",
      "Th=2, k=25: Recall of 100.00\n",
      "Th=2, k=25: Accuracy of 100.00\n",
      "\n",
      "Th=2, k=30: Precision of 100.00\n",
      "Th=2, k=30: Recall of 100.00\n",
      "Th=2, k=30: Accuracy of 100.00\n",
      "\n",
      "Th=5, k=1: Precision of 25.00\n",
      "Th=5, k=1: Recall of 100.00\n",
      "Th=5, k=1: Accuracy of 99.77\n",
      "\n",
      "Th=5, k=5: Precision of 66.67\n",
      "Th=5, k=5: Recall of 100.00\n",
      "Th=5, k=5: Accuracy of 99.96\n",
      "\n",
      "Th=5, k=10: Precision of 66.67\n",
      "Th=5, k=10: Recall of 100.00\n",
      "Th=5, k=10: Accuracy of 99.96\n",
      "\n",
      "Th=5, k=15: Precision of 100.00\n",
      "Th=5, k=15: Recall of 100.00\n",
      "Th=5, k=15: Accuracy of 100.00\n",
      "\n",
      "Th=5, k=20: Precision of 100.00\n",
      "Th=5, k=20: Recall of 100.00\n",
      "Th=5, k=20: Accuracy of 100.00\n",
      "\n",
      "Th=5, k=25: Precision of 100.00\n",
      "Th=5, k=25: Recall of 100.00\n",
      "Th=5, k=25: Accuracy of 100.00\n",
      "\n",
      "Th=5, k=30: Precision of 100.00\n",
      "Th=5, k=30: Recall of 100.00\n",
      "Th=5, k=30: Accuracy of 100.00\n",
      "\n"
     ]
    }
   ],
   "source": [
    "precision = np.zeros((len(ths), len(k_vec)))\n",
    "recall = np.zeros((len(ths), len(k_vec)))\n",
    "accuracy = np.zeros((len(ths), len(k_vec)))\n",
    "\n",
    "for j in range(len(ths)):\n",
    "    for k_idx in range(len(k_vec)):\n",
    "        all_positives = np.count_nonzero(matching_matrix[:,:,j,k_idx] == 1) \n",
    "        false_positives = all_positives - true_positives[j, k_idx]\n",
    "        true_negatives = np.product(matching_matrix.shape) - all_positives - false_negatives[j, k_idx]\n",
    "\n",
    "        precision[j, k_idx] = true_positives[j, k_idx] / (true_positives[j, k_idx] + false_positives)\n",
    "        print(f\"Th={ths[j]}, k={k_vec[k_idx]}: Precision of {precision[j, k_idx]*100:.2f}\")\n",
    "        recall[j, k_idx] = true_positives[j, k_idx] / (true_positives[j, k_idx] + false_negatives[j, k_idx])\n",
    "        print(f\"Th={ths[j]}, k={k_vec[k_idx]}: Recall of {recall[j, k_idx]*100:.2f}\")\n",
    "        accuracy[j, k_idx] = (true_positives[j, k_idx] + true_negatives) / np.product(matching_matrix.shape)\n",
    "        print(f\"Th={ths[j]}, k={k_vec[k_idx]}: Accuracy of {accuracy[j, k_idx]*100:.2f}\")\n",
    "        print()"
   ]
  },
  {
   "cell_type": "markdown",
   "id": "f2f08dfb",
   "metadata": {},
   "source": [
    "## Visualization"
   ]
  },
  {
   "cell_type": "code",
   "execution_count": 24,
   "id": "9d0ab928",
   "metadata": {},
   "outputs": [],
   "source": [
    "# Constant x vec representing k (?)\n",
    "my_xs = []\n",
    "\n",
    "# Make one y vec for each threshold\n",
    "my_pres1 = []\n",
    "my_pres2 = []\n",
    "my_pres3 = []\n",
    "\n",
    "my_rec1 = []\n",
    "my_rec2 = []\n",
    "my_rec3 = []\n",
    "\n",
    "my_acc1 = []\n",
    "my_acc2 = []\n",
    "my_acc3 = []\n",
    "\n",
    "\n",
    "for k_idx in range(len(k_vec)):\n",
    "    my_xs.append(k_vec[k_idx])\n",
    "    \n",
    "    for j in range(len(ths)):\n",
    "        if j==0:\n",
    "            my_pres1.append(precision[j, k_idx])\n",
    "            my_rec1.append(recall[j, k_idx])\n",
    "            my_acc1.append(accuracy[j, k_idx])\n",
    "        elif j==1:\n",
    "            my_pres2.append(precision[j, k_idx])\n",
    "            my_rec2.append(recall[j, k_idx])\n",
    "            my_acc2.append(accuracy[j, k_idx])\n",
    "        elif j==2:\n",
    "            my_pres3.append(precision[j, k_idx])\n",
    "            my_rec3.append(recall[j, k_idx])\n",
    "            my_acc3.append(accuracy[j, k_idx])"
   ]
  },
  {
   "cell_type": "code",
   "execution_count": 32,
   "id": "a18ac279",
   "metadata": {},
   "outputs": [
    {
     "data": {
      "image/png": "[encoded data removed]",
      "text/plain": [
       "<Figure size 864x576 with 1 Axes>"
      ]
     },
     "metadata": {
      "needs_background": "light"
     },
     "output_type": "display_data"
    }
   ],
   "source": [
    "width = 0.8       # the width of the bars\n",
    "plt.figure(figsize=(12,8))\n",
    "rects1 = plt.bar(my_xs, my_pres1, width, color='r')\n",
    "rects2 = plt.bar(np.array(my_xs, int)+width, my_pres2, width, color='orange')\n",
    "rects3 = plt.bar(np.array(my_xs, float)+2*width, my_pres3, width, color='yellow')\n",
    "plt.ylabel('Precision')\n",
    "plt.xlabel('K')\n",
    "plt.title('Precision as a Function of K and Threshold')\n",
    "plt.xticks(my_xs)\n",
    "plt.legend((rects1[0], rects2[0], rects3[0]), ('Thresh=0', 'Thresh=2', 'Thresh=5'))\n",
    "plt.show()"
   ]
  },
  {
   "cell_type": "code",
   "execution_count": 41,
   "id": "c8643caa",
   "metadata": {},
   "outputs": [
    {
     "data": {
      "image/png": "[encoded data removed]",
      "text/plain": [
       "<Figure size 864x576 with 1 Axes>"
      ]
     },
     "metadata": {
      "needs_background": "light"
     },
     "output_type": "display_data"
    }
   ],
   "source": [
    "width = 0.8       # the width of the bars\n",
    "plt.figure(figsize=(12,8))\n",
    "rects1 = plt.bar(my_xs, my_rec1, width, color='r')\n",
    "rects2 = plt.bar(np.array(my_xs, int)+width, my_rec2, width, color='orange')\n",
    "rects3 = plt.bar(np.array(my_xs, float)+2*width, my_rec3, width, color='yellow')\n",
    "plt.ylabel('Recall')\n",
    "#plt.ylim((0.995, 1.005))\n",
    "plt.xlabel('K')\n",
    "plt.title('Recall as a Function of K and Threshold')\n",
    "plt.xticks(my_xs)\n",
    "plt.legend((rects1[0], rects2[0], rects3[0]), ('Thresh=0', 'Thresh=2', 'Thresh=5'))\n",
    "plt.show()"
   ]
  },
  {
   "cell_type": "code",
   "execution_count": 45,
   "id": "feff0b1b",
   "metadata": {},
   "outputs": [
    {
     "data": {
      "image/png": "[encoded data removed]",
      "text/plain": [
       "<Figure size 864x576 with 1 Axes>"
      ]
     },
     "metadata": {
      "needs_background": "light"
     },
     "output_type": "display_data"
    }
   ],
   "source": [
    "width = 0.8       # the width of the bars\n",
    "plt.figure(figsize=(12,8))\n",
    "rects1 = plt.bar(my_xs, my_acc1, width, color='r')\n",
    "rects2 = plt.bar(np.array(my_xs, int)+width, my_acc2, width, color='orange')\n",
    "rects3 = plt.bar(np.array(my_xs, float)+2*width, my_acc3, width, color='yellow')\n",
    "plt.ylim((0.997, 1.001))\n",
    "plt.ylabel('Accuracy')\n",
    "plt.xlabel('K')\n",
    "plt.title('Accuracy as a Function of K and Threshold')\n",
    "plt.xticks(my_xs)\n",
    "plt.legend((rects1[0], rects2[0], rects3[0]), ('Thresh=0', 'Thresh=2', 'Thresh=5'))\n",
    "plt.show()"
   ]
  },
  {
   "cell_type": "code",
   "execution_count": null,
   "id": "b2565cc2",
   "metadata": {},
   "outputs": [],
   "source": []
  }
 ],
 "metadata": {
  "kernelspec": {
   "display_name": "Python 3 (ipykernel)",
   "language": "python",
   "name": "python3"
  },
  "language_info": {
   "codemirror_mode": {
    "name": "ipython",
    "version": 3
   },
   "file_extension": ".py",
   "mimetype": "text/x-python",
   "name": "python",
   "nbconvert_exporter": "python",
   "pygments_lexer": "ipython3",
   "version": "3.7.11"
  }
 },
 "nbformat": 4,
 "nbformat_minor": 5
}
