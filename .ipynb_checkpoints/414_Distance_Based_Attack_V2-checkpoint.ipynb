{
 "cells": [
  {
   "cell_type": "code",
   "execution_count": 26,
   "id": "f9009d01",
   "metadata": {},
   "outputs": [],
   "source": [
    "import pandas as pd\n",
    "import numpy as np\n",
    "import matplotlib.pyplot as plt\n",
    "import random\n",
    "from scipy.special import rel_entr"
   ]
  },
  {
   "cell_type": "code",
   "execution_count": 2,
   "id": "d51d0153",
   "metadata": {},
   "outputs": [],
   "source": [
    "################## DATA FRAME ##################\n",
    "datafile = 'Data/Fitbit_Kaggle/dailyActivity_merged.csv'\n",
    "fields = ['Id', 'ActivityDate', 'TotalSteps', 'TotalDistance', 'TrackerDistance', \n",
    "          'VeryActiveDistance', 'ModeratelyActiveDistance', 'LightActiveDistance', 'SedentaryActiveDistance', \n",
    "          'VeryActiveMinutes', 'FairlyActiveMinutes', 'LightlyActiveMinutes', 'SedentaryMinutes', 'Calories']\n",
    "\n",
    "#pd.set_option('display.max_rows', 100)\n",
    "df = pd.read_csv(datafile, skipinitialspace=True, usecols=fields)\n",
    "field = 'FairlyActiveMinutes'\n",
    "selected_data = df[['Id',field]]\n",
    "n_rows, n_cols = df.shape"
   ]
  },
  {
   "cell_type": "code",
   "execution_count": 3,
   "id": "0a635b6c",
   "metadata": {},
   "outputs": [
    {
     "data": {
      "text/html": [
       "<div>\n",
       "<style scoped>\n",
       "    .dataframe tbody tr th:only-of-type {\n",
       "        vertical-align: middle;\n",
       "    }\n",
       "\n",
       "    .dataframe tbody tr th {\n",
       "        vertical-align: top;\n",
       "    }\n",
       "\n",
       "    .dataframe thead th {\n",
       "        text-align: right;\n",
       "    }\n",
       "</style>\n",
       "<table border=\"1\" class=\"dataframe\">\n",
       "  <thead>\n",
       "    <tr style=\"text-align: right;\">\n",
       "      <th></th>\n",
       "      <th>Id</th>\n",
       "      <th>FairlyActiveMinutes</th>\n",
       "    </tr>\n",
       "  </thead>\n",
       "  <tbody>\n",
       "    <tr>\n",
       "      <th>0</th>\n",
       "      <td>1503960366</td>\n",
       "      <td>13</td>\n",
       "    </tr>\n",
       "    <tr>\n",
       "      <th>1</th>\n",
       "      <td>1503960366</td>\n",
       "      <td>19</td>\n",
       "    </tr>\n",
       "    <tr>\n",
       "      <th>2</th>\n",
       "      <td>1503960366</td>\n",
       "      <td>11</td>\n",
       "    </tr>\n",
       "    <tr>\n",
       "      <th>3</th>\n",
       "      <td>1503960366</td>\n",
       "      <td>34</td>\n",
       "    </tr>\n",
       "    <tr>\n",
       "      <th>4</th>\n",
       "      <td>1503960366</td>\n",
       "      <td>10</td>\n",
       "    </tr>\n",
       "  </tbody>\n",
       "</table>\n",
       "</div>"
      ],
      "text/plain": [
       "           Id  FairlyActiveMinutes\n",
       "0  1503960366                   13\n",
       "1  1503960366                   19\n",
       "2  1503960366                   11\n",
       "3  1503960366                   34\n",
       "4  1503960366                   10"
      ]
     },
     "execution_count": 3,
     "metadata": {},
     "output_type": "execute_result"
    }
   ],
   "source": [
    "selected_data.head()"
   ]
  },
  {
   "cell_type": "markdown",
   "id": "26c0621a",
   "metadata": {},
   "source": [
    "## Generate attack vectors"
   ]
  },
  {
   "cell_type": "code",
   "execution_count": 4,
   "id": "0872f672",
   "metadata": {},
   "outputs": [],
   "source": [
    "def id_long_enough_entries(IDs,  selected_data, j):\n",
    "    persons_list = []\n",
    "    for person in IDs:\n",
    "        if len(set(selected_data.loc[person, field])) > j:\n",
    "            persons_list.append(person)\n",
    "    return persons_list"
   ]
  },
  {
   "cell_type": "code",
   "execution_count": 5,
   "id": "7fea07e3",
   "metadata": {},
   "outputs": [],
   "source": [
    "IDs = selected_data['Id'].unique()\n",
    "individualAct = dict()\n",
    "for Id in IDs:\n",
    "    act = selected_data[selected_data['Id']==Id]\n",
    "    individualAct[Id] = act['FairlyActiveMinutes'].tolist()\n",
    "    \n",
    "## Get the activity in the data\n",
    "data_act = list(selected_data['FairlyActiveMinutes'].unique())"
   ]
  },
  {
   "cell_type": "code",
   "execution_count": 6,
   "id": "68577e19",
   "metadata": {
    "scrolled": true
   },
   "outputs": [
    {
     "data": {
      "text/plain": [
       "10"
      ]
     },
     "execution_count": 6,
     "metadata": {},
     "output_type": "execute_result"
    }
   ],
   "source": [
    "mu = np.mean(data_act)\n",
    "sigma = np.std(data_act)\n",
    "round(random.gauss(mu, sigma))"
   ]
  },
  {
   "cell_type": "code",
   "execution_count": 7,
   "id": "57842636",
   "metadata": {},
   "outputs": [],
   "source": [
    "selected_data = selected_data.set_index('Id')"
   ]
  },
  {
   "cell_type": "code",
   "execution_count": 8,
   "id": "bd951184",
   "metadata": {},
   "outputs": [],
   "source": [
    "attack_lengths_list = [1, 5, 10, 15, 20]\n",
    "my_true_attack_vectors = [0]*len(attack_lengths_list)\n",
    "my_noisy_attack_vectors = [0]*len(attack_lengths_list)\n",
    "selected_person = [0]*len(attack_lengths_list)\n",
    "\n",
    "for i, attack_length in enumerate(attack_lengths_list):\n",
    "    # Select a random person with at least attack_length entries \n",
    "    selected_person[i] = random.choice(id_long_enough_entries(IDs,  selected_data, attack_length))\n",
    "    selected_individual_dataset = set(selected_data.loc[selected_person[i], field].values)\n",
    "    for j in range(attack_length):\n",
    "        rs = random.sample(selected_individual_dataset, j+1)\n",
    "        \n",
    "        my_true_attack_vectors[i] = np.array(rs)\n",
    "        for k in range(j):\n",
    "            rs[k] += round(random.gauss(mu, sigma))\n",
    "        my_noisy_attack_vectors[i]  = np.array(rs)"
   ]
  },
  {
   "cell_type": "code",
   "execution_count": 9,
   "id": "5c8d3511",
   "metadata": {},
   "outputs": [
    {
     "data": {
      "text/plain": [
       "[array([15], dtype=int64),\n",
       " array([ 9,  4,  0, 13,  2], dtype=int64),\n",
       " array([ 7, 22, 54, 91, 44,  6,  2,  5, 28,  0], dtype=int64),\n",
       " array([65, 36, 56, 54, 32, 24,  9, 11, 72, 30, 21, 15, 38,  0, 37],\n",
       "       dtype=int64),\n",
       " array([21,  7, 14,  8, 22, 36, 38, 33, 27, 34, 41, 39, 16,  4, 42, 15,  0,\n",
       "        13, 24, 31], dtype=int64)]"
      ]
     },
     "execution_count": 9,
     "metadata": {},
     "output_type": "execute_result"
    }
   ],
   "source": [
    "my_true_attack_vectors"
   ]
  },
  {
   "cell_type": "code",
   "execution_count": 10,
   "id": "5e8e069d",
   "metadata": {
    "scrolled": true
   },
   "outputs": [
    {
     "data": {
      "text/plain": [
       "[array([15], dtype=int64),\n",
       " array([44, 99, 98, 98,  2], dtype=int64),\n",
       " array([ 58, 119, 107, 121,  82, 111,  36,  -1,  83,   0], dtype=int64),\n",
       " array([117, -20, 124,  96,  94,  48, 108,  79, 136, 163,  87,  80, 154,\n",
       "         34,  37], dtype=int64),\n",
       " array([146,  35,  33,  43,  36, 141,  92,  76,  94, 111, 109, 117,  34,\n",
       "         31, 138,  83, 103,  50,  95,  31], dtype=int64)]"
      ]
     },
     "execution_count": 10,
     "metadata": {},
     "output_type": "execute_result"
    }
   ],
   "source": [
    "my_noisy_attack_vectors"
   ]
  },
  {
   "cell_type": "markdown",
   "id": "9bd9dea3",
   "metadata": {},
   "source": [
    "## Bonomi's Suggested Euclidean\n",
    "> He says iterate through all values, index based matching..."
   ]
  },
  {
   "cell_type": "code",
   "execution_count": null,
   "id": "d12a7213",
   "metadata": {},
   "outputs": [],
   "source": []
  },
  {
   "cell_type": "code",
   "execution_count": null,
   "id": "7b7000e2",
   "metadata": {},
   "outputs": [],
   "source": []
  },
  {
   "cell_type": "code",
   "execution_count": null,
   "id": "b7c2c122",
   "metadata": {},
   "outputs": [],
   "source": []
  },
  {
   "cell_type": "code",
   "execution_count": null,
   "id": "f6c535a3",
   "metadata": {},
   "outputs": [],
   "source": []
  },
  {
   "cell_type": "code",
   "execution_count": null,
   "id": "aeeca9eb",
   "metadata": {},
   "outputs": [],
   "source": []
  },
  {
   "cell_type": "markdown",
   "id": "6709877b",
   "metadata": {},
   "source": [
    "## Now compute KL-divergence to establish matching"
   ]
  },
  {
   "cell_type": "code",
   "execution_count": 33,
   "id": "17413dfb",
   "metadata": {},
   "outputs": [],
   "source": [
    "my_attack_vectors = my_true_attack_vectors\n",
    "my_attack_vectors.extend(my_noisy_attack_vectors)"
   ]
  },
  {
   "cell_type": "code",
   "execution_count": 56,
   "id": "6337d2f0",
   "metadata": {},
   "outputs": [],
   "source": [
    "arbitrarily_high_constant = 999999999"
   ]
  },
  {
   "cell_type": "code",
   "execution_count": 57,
   "id": "613c775b",
   "metadata": {},
   "outputs": [],
   "source": [
    "KL_matches = [0]*len(my_attack_vectors)"
   ]
  },
  {
   "cell_type": "code",
   "execution_count": 59,
   "id": "a51bd43c",
   "metadata": {},
   "outputs": [],
   "source": [
    "for i, av in enumerate(my_attack_vectors):\n",
    "    min_KL = arbitrarily_high_constant\n",
    "    min_user = \"\"\n",
    "    \n",
    "    for j, user in enumerate(all_IDs):        \n",
    "        temp_user_values0 = selected_data.loc[user].values\n",
    "        temp_user_values = [val[0] for val in temp_user_values0]\n",
    "        \n",
    "        # av needs to be the same length as temp_user_values...\n",
    "        if len(temp_user_values) < len(av):\n",
    "            #print(\"TOSSED ONE\")\n",
    "            current_KL = arbitrarily_high_constant\n",
    "        else:\n",
    "            av_padded = list(av)\n",
    "            # Not sure if setting the padding to 1 is the best...\n",
    "            # ^0s cause INF for KL divergence\n",
    "            av_padded.extend([1]*(len(temp_user_values)-len(av)))\n",
    "            current_KL = sum(rel_entr(temp_user_values, av_padded))\n",
    "        \n",
    "        if current_KL < min_KL:\n",
    "            min_KL = current_KL\n",
    "            min_user = user\n",
    "            \n",
    "        '''\n",
    "        if np.isinf(current_KL):\n",
    "            print(\"INFINITY FOUND\")\n",
    "        elif np.isnan(current_KL):\n",
    "            print(\"NAN FOUND\")\n",
    "        else:\n",
    "            print(\"SUCCESS\")\n",
    "        '''\n",
    "    \n",
    "    KL_matches[i] = [min_KL, min_user]\n",
    "        "
   ]
  },
  {
   "cell_type": "code",
   "execution_count": 60,
   "id": "2ac23af8",
   "metadata": {},
   "outputs": [
    {
     "data": {
      "text/plain": [
       "[[-5.028869275378994, 2026352035],\n",
       " [-0.9422642852510681, 2026352035],\n",
       " [1.0682511409961806, 2026352035],\n",
       " [-64.62290724224111, 6117666160],\n",
       " [-48.77965785448977, 1844505072],\n",
       " [-5.028869275378994, 2026352035],\n",
       " [-13.637984737907402, 2026352035],\n",
       " [999999999, ''],\n",
       " [999999999, ''],\n",
       " [-159.8771877782993, 8792009665]]"
      ]
     },
     "execution_count": 60,
     "metadata": {},
     "output_type": "execute_result"
    }
   ],
   "source": [
    "KL_matches"
   ]
  },
  {
   "cell_type": "code",
   "execution_count": 48,
   "id": "f39b516c",
   "metadata": {},
   "outputs": [
    {
     "data": {
      "text/plain": [
       "[7,\n",
       " 18,\n",
       " 13,\n",
       " 1,\n",
       " 29,\n",
       " 15,\n",
       " 5,\n",
       " 13,\n",
       " 19,\n",
       " 13,\n",
       " 2,\n",
       " 6,\n",
       " 1,\n",
       " 8,\n",
       " 3,\n",
       " 8,\n",
       " 8,\n",
       " 5,\n",
       " 4,\n",
       " 12,\n",
       " 0,\n",
       " 3,\n",
       " 8,\n",
       " 15,\n",
       " 17,\n",
       " 28,\n",
       " 4,\n",
       " 19,\n",
       " 11,\n",
       " 12,\n",
       " 1]"
      ]
     },
     "execution_count": 48,
     "metadata": {},
     "output_type": "execute_result"
    }
   ],
   "source": [
    "temp_user_values"
   ]
  },
  {
   "cell_type": "code",
   "execution_count": 49,
   "id": "4346e024",
   "metadata": {},
   "outputs": [
    {
     "data": {
      "text/plain": [
       "[146,\n",
       " 35,\n",
       " 33,\n",
       " 43,\n",
       " 36,\n",
       " 141,\n",
       " 92,\n",
       " 76,\n",
       " 94,\n",
       " 111,\n",
       " 109,\n",
       " 117,\n",
       " 34,\n",
       " 31,\n",
       " 138,\n",
       " 83,\n",
       " 103,\n",
       " 50,\n",
       " 95,\n",
       " 31,\n",
       " 0,\n",
       " 0,\n",
       " 0,\n",
       " 0,\n",
       " 0,\n",
       " 0,\n",
       " 0,\n",
       " 0,\n",
       " 0,\n",
       " 0,\n",
       " 0]"
      ]
     },
     "execution_count": 49,
     "metadata": {},
     "output_type": "execute_result"
    }
   ],
   "source": [
    "av_padded"
   ]
  },
  {
   "cell_type": "code",
   "execution_count": 52,
   "id": "569333ef",
   "metadata": {},
   "outputs": [
    {
     "data": {
      "text/plain": [
       "array([-21.26387531, -11.96957346, -12.11025665,  -3.76120012,\n",
       "        -6.27047015, -33.61064534, -14.56175332, -22.95519178,\n",
       "       -30.37826026, -27.87955097,  -7.9964014 , -17.82248679,\n",
       "        -3.52636052, -10.8363653 , -11.48592419, -18.71519253,\n",
       "       -20.44229957, -11.51292546, -12.67033012, -11.38896666,\n",
       "         0.        ,          inf,          inf,          inf,\n",
       "                inf,          inf,          inf,          inf,\n",
       "                inf,          inf,          inf])"
      ]
     },
     "execution_count": 52,
     "metadata": {},
     "output_type": "execute_result"
    }
   ],
   "source": [
    "rel_entr(temp_user_values, av_padded)"
   ]
  },
  {
   "cell_type": "code",
   "execution_count": null,
   "id": "079b128f",
   "metadata": {},
   "outputs": [],
   "source": []
  },
  {
   "cell_type": "code",
   "execution_count": 30,
   "id": "c13a6de1",
   "metadata": {},
   "outputs": [],
   "source": [
    "me = [1,2,3,4,5]\n",
    "you = [1,2,3,4,211]"
   ]
  },
  {
   "cell_type": "code",
   "execution_count": 31,
   "id": "af052e42",
   "metadata": {},
   "outputs": [
    {
     "data": {
      "text/plain": [
       "array([  0.        ,   0.        ,   0.        ,   0.        ,\n",
       "       -18.71210111])"
      ]
     },
     "execution_count": 31,
     "metadata": {},
     "output_type": "execute_result"
    }
   ],
   "source": [
    "rel_entr(me, you)"
   ]
  },
  {
   "cell_type": "code",
   "execution_count": null,
   "id": "8276b099",
   "metadata": {},
   "outputs": [],
   "source": []
  },
  {
   "cell_type": "code",
   "execution_count": null,
   "id": "35f9aa84",
   "metadata": {},
   "outputs": [],
   "source": []
  },
  {
   "cell_type": "code",
   "execution_count": null,
   "id": "a84cad8d",
   "metadata": {},
   "outputs": [],
   "source": []
  },
  {
   "cell_type": "code",
   "execution_count": null,
   "id": "d33fcb29",
   "metadata": {},
   "outputs": [],
   "source": []
  },
  {
   "cell_type": "code",
   "execution_count": null,
   "id": "ae817cb3",
   "metadata": {},
   "outputs": [],
   "source": []
  },
  {
   "cell_type": "code",
   "execution_count": null,
   "id": "e98b432d",
   "metadata": {},
   "outputs": [],
   "source": [
    "def isHit(activity, query, ths):\n",
    "    \n",
    "    hits = list()\n",
    "    for th in ths:\n",
    "        hit = False\n",
    "        i = 0\n",
    "        for j in range(0,len(activity)):\n",
    "            #print(query[j])\n",
    "            if (abs(query[i] - activity[j])<=th):\n",
    "                i = i + 1\n",
    "            \n",
    "                if i == len(query):\n",
    "                    hit = True\n",
    "                    break\n",
    "        \n",
    "        hits.append(hit)\n",
    "    return hits\n"
   ]
  },
  {
   "cell_type": "code",
   "execution_count": null,
   "id": "d065e588",
   "metadata": {},
   "outputs": [],
   "source": [
    "def uniqueness(queries, domain, k, l, uniq_score, individuals, ths):\n",
    "    '''\n",
    "    queries:\n",
    "    domain:\n",
    "    k: limit \n",
    "    l: current iteration I think, current number of entries more like\n",
    "    individuals: individualAct[Id] = act['FairlyActiveMinutes'].tolist()\n",
    "    '''\n",
    "    \n",
    "    print(queries[0])\n",
    "    print(len(queries))\n",
    "    print(len(individuals.keys()))\n",
    "    \n",
    "    if l > k:\n",
    "        print(\"L > K!!!\")\n",
    "        return uniq_score\n",
    "    \n",
    "    present_queries = []\n",
    "    query_matches = dict()\n",
    "    \n",
    "    for query in queries:\n",
    "        match = dict()\n",
    "        for th in ths:\n",
    "            match[th] = []\n",
    "            \n",
    "        inData = False\n",
    "        #print(query)\n",
    "        for Id in individuals:\n",
    "            ind_act = individuals[Id]\n",
    "                \n",
    "            hits = isHit(ind_act, query, ths)\n",
    "                \n",
    "            for i in range(0,len(ths)):\n",
    "                hit = hits[i]\n",
    "                \n",
    "                if hit:\n",
    "                    match[ths[i]].append(Id)\n",
    "                    inData = True\n",
    "                    #print(ths[i])\n",
    "                    #print(Id)\n",
    "                    #print(match)\n",
    "        if inData:\n",
    "            present_queries.append(query)\n",
    "            query_matches[str(query)] = match\n",
    "            #print(match)\n",
    "    \n",
    "    for i in range(0, len(ths)):\n",
    "        uniquesId = []\n",
    "        th = ths[i]\n",
    "        #print(th)\n",
    "        \n",
    "        for keyquery in query_matches:\n",
    "            match = query_matches[keyquery]\n",
    "            \n",
    "            matchTH = match[th]\n",
    "            #print(keyquery)\n",
    "            #print(matchTH)\n",
    "            if len(list(set(matchTH))) == 1:\n",
    "                #print(\"Unique\")\n",
    "                uniquesId.append(matchTH[0]) \n",
    "        \n",
    "        score = (1.0*len(list(set(uniquesId))))/len(individuals.keys())\n",
    "        uniq_score.append((l,th,score))\n",
    "                        \n",
    "    l = l + 1\n",
    "    newqueries = []\n",
    "    for query in present_queries:  \n",
    "        for val in domain:\n",
    "            newquery = query.copy()\n",
    "            newquery.append(val)\n",
    "            newqueries.append(newquery)\n",
    "                   \n",
    "    return uniqueness(newqueries, domain, k, l, uniq_score, individuals, ths)\n",
    "            "
   ]
  },
  {
   "cell_type": "code",
   "execution_count": null,
   "id": "48915a54",
   "metadata": {},
   "outputs": [],
   "source": [
    "#uniqueness up to 3 readings with th=0 and th=2\n",
    "uniqueScores = list()\n",
    "start_query = [[a] for a in data_act]\n",
    "uniqueScores = uniqueness(start_query, data_act, 3, 1, uniqueScores, individualAct, [0, 2, 5])"
   ]
  },
  {
   "cell_type": "code",
   "execution_count": null,
   "id": "08fcc0ae",
   "metadata": {},
   "outputs": [],
   "source": []
  },
  {
   "cell_type": "code",
   "execution_count": null,
   "id": "4638db24",
   "metadata": {},
   "outputs": [],
   "source": []
  },
  {
   "cell_type": "code",
   "execution_count": null,
   "id": "8ae45956",
   "metadata": {},
   "outputs": [],
   "source": []
  },
  {
   "cell_type": "code",
   "execution_count": null,
   "id": "07186b65",
   "metadata": {},
   "outputs": [],
   "source": []
  }
 ],
 "metadata": {
  "kernelspec": {
   "display_name": "Python 3 (ipykernel)",
   "language": "python",
   "name": "python3"
  },
  "language_info": {
   "codemirror_mode": {
    "name": "ipython",
    "version": 3
   },
   "file_extension": ".py",
   "mimetype": "text/x-python",
   "name": "python",
   "nbconvert_exporter": "python",
   "pygments_lexer": "ipython3",
   "version": "3.7.11"
  }
 },
 "nbformat": 4,
 "nbformat_minor": 5
}
