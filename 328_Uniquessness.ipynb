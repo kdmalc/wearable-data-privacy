{
 "cells": [
  {
   "cell_type": "markdown",
   "id": "b15ae1ad",
   "metadata": {},
   "source": [
    "# 3/28\n",
    "1. Measure the unique features across individual\n",
    "2. Matching: tell how many people are hit by RNG fields (most informative, divided by the total number of records\n",
    "3. How much information do we really need to identify individuals --> So far we only know some features that are informative.  Next step is how much we need to know to uniquely identify an individual\n",
    "4. Step through 1 RNG reading, then try 2, etc. we should show higher uniquessness in the data as we increase the number of readings\n",
    "5. Need to understand how we design the test set for the patients linking.  Should also include some patients that were not in the original dataset in order to determine the precision of said target matching.\n",
    "\n",
    "## This NB:\n",
    "> **Conclusion From Previous Notebook:** The highest values are 0.289, 0.273, and 0.266, for the following fields, respectively: 'FairlyActiveMinutes', 'VeryActiveDistance', and 'LightlyActiveMinutes'.  Calories and total steps were both relatively uninformative.\n",
    "\n",
    "## Goals\n",
    "1. Assume to conduct the uniqueness analysis on each activity separately. In other words, we compute a uniqueness score, for each activity. Here, we can start by considering the top-3 activity that you have already identified using the KL-divergence.\n",
    "2. Consider a threshold value to match the reading"
   ]
  },
  {
   "cell_type": "code",
   "execution_count": 1,
   "id": "acdcf83d",
   "metadata": {},
   "outputs": [],
   "source": [
    "import pandas as pd\n",
    "import numpy as np\n",
    "import matplotlib.pyplot as plt\n",
    "import random"
   ]
  },
  {
   "cell_type": "code",
   "execution_count": 2,
   "id": "824befbf",
   "metadata": {
    "scrolled": false
   },
   "outputs": [
    {
     "data": {
      "text/html": [
       "<div>\n",
       "<style scoped>\n",
       "    .dataframe tbody tr th:only-of-type {\n",
       "        vertical-align: middle;\n",
       "    }\n",
       "\n",
       "    .dataframe tbody tr th {\n",
       "        vertical-align: top;\n",
       "    }\n",
       "\n",
       "    .dataframe thead th {\n",
       "        text-align: right;\n",
       "    }\n",
       "</style>\n",
       "<table border=\"1\" class=\"dataframe\">\n",
       "  <thead>\n",
       "    <tr style=\"text-align: right;\">\n",
       "      <th></th>\n",
       "      <th>FairlyActiveMinutes</th>\n",
       "      <th>VeryActiveDistance</th>\n",
       "      <th>LightlyActiveMinutes</th>\n",
       "    </tr>\n",
       "    <tr>\n",
       "      <th>Id</th>\n",
       "      <th></th>\n",
       "      <th></th>\n",
       "      <th></th>\n",
       "    </tr>\n",
       "  </thead>\n",
       "  <tbody>\n",
       "    <tr>\n",
       "      <th>1503960366</th>\n",
       "      <td>13</td>\n",
       "      <td>1.88</td>\n",
       "      <td>328</td>\n",
       "    </tr>\n",
       "    <tr>\n",
       "      <th>1503960366</th>\n",
       "      <td>19</td>\n",
       "      <td>1.57</td>\n",
       "      <td>217</td>\n",
       "    </tr>\n",
       "    <tr>\n",
       "      <th>1503960366</th>\n",
       "      <td>11</td>\n",
       "      <td>2.44</td>\n",
       "      <td>181</td>\n",
       "    </tr>\n",
       "    <tr>\n",
       "      <th>1503960366</th>\n",
       "      <td>34</td>\n",
       "      <td>2.14</td>\n",
       "      <td>209</td>\n",
       "    </tr>\n",
       "    <tr>\n",
       "      <th>1503960366</th>\n",
       "      <td>10</td>\n",
       "      <td>2.71</td>\n",
       "      <td>221</td>\n",
       "    </tr>\n",
       "    <tr>\n",
       "      <th>1503960366</th>\n",
       "      <td>20</td>\n",
       "      <td>3.19</td>\n",
       "      <td>164</td>\n",
       "    </tr>\n",
       "    <tr>\n",
       "      <th>1503960366</th>\n",
       "      <td>16</td>\n",
       "      <td>3.25</td>\n",
       "      <td>233</td>\n",
       "    </tr>\n",
       "    <tr>\n",
       "      <th>1503960366</th>\n",
       "      <td>31</td>\n",
       "      <td>3.53</td>\n",
       "      <td>264</td>\n",
       "    </tr>\n",
       "    <tr>\n",
       "      <th>1503960366</th>\n",
       "      <td>12</td>\n",
       "      <td>1.96</td>\n",
       "      <td>205</td>\n",
       "    </tr>\n",
       "    <tr>\n",
       "      <th>1503960366</th>\n",
       "      <td>8</td>\n",
       "      <td>1.34</td>\n",
       "      <td>211</td>\n",
       "    </tr>\n",
       "    <tr>\n",
       "      <th>1503960366</th>\n",
       "      <td>27</td>\n",
       "      <td>4.76</td>\n",
       "      <td>130</td>\n",
       "    </tr>\n",
       "    <tr>\n",
       "      <th>1503960366</th>\n",
       "      <td>21</td>\n",
       "      <td>2.81</td>\n",
       "      <td>262</td>\n",
       "    </tr>\n",
       "    <tr>\n",
       "      <th>1503960366</th>\n",
       "      <td>5</td>\n",
       "      <td>2.92</td>\n",
       "      <td>238</td>\n",
       "    </tr>\n",
       "    <tr>\n",
       "      <th>1503960366</th>\n",
       "      <td>14</td>\n",
       "      <td>5.29</td>\n",
       "      <td>216</td>\n",
       "    </tr>\n",
       "    <tr>\n",
       "      <th>1503960366</th>\n",
       "      <td>23</td>\n",
       "      <td>2.33</td>\n",
       "      <td>279</td>\n",
       "    </tr>\n",
       "    <tr>\n",
       "      <th>1503960366</th>\n",
       "      <td>11</td>\n",
       "      <td>6.40</td>\n",
       "      <td>243</td>\n",
       "    </tr>\n",
       "    <tr>\n",
       "      <th>1503960366</th>\n",
       "      <td>28</td>\n",
       "      <td>3.54</td>\n",
       "      <td>189</td>\n",
       "    </tr>\n",
       "    <tr>\n",
       "      <th>1503960366</th>\n",
       "      <td>12</td>\n",
       "      <td>1.06</td>\n",
       "      <td>243</td>\n",
       "    </tr>\n",
       "    <tr>\n",
       "      <th>1503960366</th>\n",
       "      <td>34</td>\n",
       "      <td>3.56</td>\n",
       "      <td>217</td>\n",
       "    </tr>\n",
       "    <tr>\n",
       "      <th>1503960366</th>\n",
       "      <td>35</td>\n",
       "      <td>2.29</td>\n",
       "      <td>246</td>\n",
       "    </tr>\n",
       "    <tr>\n",
       "      <th>1503960366</th>\n",
       "      <td>15</td>\n",
       "      <td>3.21</td>\n",
       "      <td>277</td>\n",
       "    </tr>\n",
       "    <tr>\n",
       "      <th>1503960366</th>\n",
       "      <td>24</td>\n",
       "      <td>3.73</td>\n",
       "      <td>254</td>\n",
       "    </tr>\n",
       "    <tr>\n",
       "      <th>1503960366</th>\n",
       "      <td>22</td>\n",
       "      <td>2.46</td>\n",
       "      <td>203</td>\n",
       "    </tr>\n",
       "    <tr>\n",
       "      <th>1503960366</th>\n",
       "      <td>24</td>\n",
       "      <td>2.92</td>\n",
       "      <td>250</td>\n",
       "    </tr>\n",
       "    <tr>\n",
       "      <th>1503960366</th>\n",
       "      <td>6</td>\n",
       "      <td>1.97</td>\n",
       "      <td>289</td>\n",
       "    </tr>\n",
       "    <tr>\n",
       "      <th>1503960366</th>\n",
       "      <td>46</td>\n",
       "      <td>2.46</td>\n",
       "      <td>175</td>\n",
       "    </tr>\n",
       "    <tr>\n",
       "      <th>1503960366</th>\n",
       "      <td>8</td>\n",
       "      <td>3.53</td>\n",
       "      <td>203</td>\n",
       "    </tr>\n",
       "    <tr>\n",
       "      <th>1503960366</th>\n",
       "      <td>11</td>\n",
       "      <td>3.45</td>\n",
       "      <td>206</td>\n",
       "    </tr>\n",
       "    <tr>\n",
       "      <th>1503960366</th>\n",
       "      <td>31</td>\n",
       "      <td>3.35</td>\n",
       "      <td>214</td>\n",
       "    </tr>\n",
       "    <tr>\n",
       "      <th>1503960366</th>\n",
       "      <td>23</td>\n",
       "      <td>2.56</td>\n",
       "      <td>251</td>\n",
       "    </tr>\n",
       "    <tr>\n",
       "      <th>1503960366</th>\n",
       "      <td>0</td>\n",
       "      <td>0.00</td>\n",
       "      <td>0</td>\n",
       "    </tr>\n",
       "    <tr>\n",
       "      <th>1624580081</th>\n",
       "      <td>0</td>\n",
       "      <td>0.00</td>\n",
       "      <td>146</td>\n",
       "    </tr>\n",
       "  </tbody>\n",
       "</table>\n",
       "</div>"
      ],
      "text/plain": [
       "            FairlyActiveMinutes  VeryActiveDistance  LightlyActiveMinutes\n",
       "Id                                                                       \n",
       "1503960366                   13                1.88                   328\n",
       "1503960366                   19                1.57                   217\n",
       "1503960366                   11                2.44                   181\n",
       "1503960366                   34                2.14                   209\n",
       "1503960366                   10                2.71                   221\n",
       "1503960366                   20                3.19                   164\n",
       "1503960366                   16                3.25                   233\n",
       "1503960366                   31                3.53                   264\n",
       "1503960366                   12                1.96                   205\n",
       "1503960366                    8                1.34                   211\n",
       "1503960366                   27                4.76                   130\n",
       "1503960366                   21                2.81                   262\n",
       "1503960366                    5                2.92                   238\n",
       "1503960366                   14                5.29                   216\n",
       "1503960366                   23                2.33                   279\n",
       "1503960366                   11                6.40                   243\n",
       "1503960366                   28                3.54                   189\n",
       "1503960366                   12                1.06                   243\n",
       "1503960366                   34                3.56                   217\n",
       "1503960366                   35                2.29                   246\n",
       "1503960366                   15                3.21                   277\n",
       "1503960366                   24                3.73                   254\n",
       "1503960366                   22                2.46                   203\n",
       "1503960366                   24                2.92                   250\n",
       "1503960366                    6                1.97                   289\n",
       "1503960366                   46                2.46                   175\n",
       "1503960366                    8                3.53                   203\n",
       "1503960366                   11                3.45                   206\n",
       "1503960366                   31                3.35                   214\n",
       "1503960366                   23                2.56                   251\n",
       "1503960366                    0                0.00                     0\n",
       "1624580081                    0                0.00                   146"
      ]
     },
     "metadata": {},
     "output_type": "display_data"
    }
   ],
   "source": [
    "################## DATA FRAME ##################\n",
    "datafile = 'Data/Fitbit_Kaggle/dailyActivity_merged.csv'\n",
    "fields = ['Id', 'ActivityDate', 'TotalSteps', 'TotalDistance', 'TrackerDistance', \n",
    "          'VeryActiveDistance', 'ModeratelyActiveDistance', 'LightActiveDistance', 'SedentaryActiveDistance', \n",
    "          'VeryActiveMinutes', 'FairlyActiveMinutes', 'LightlyActiveMinutes', 'SedentaryMinutes', 'Calories']\n",
    "\n",
    "pd.set_option('display.max_rows', 100)\n",
    "df = pd.read_csv(datafile, skipinitialspace=True, usecols=fields)\n",
    "n_rows, n_cols = df.shape\n",
    "df = df.loc[:, [\"Id\", \"FairlyActiveMinutes\", \"VeryActiveDistance\", \"LightlyActiveMinutes\"]]\n",
    "df = df.set_index('Id')\n",
    "display(df.head(32))"
   ]
  },
  {
   "cell_type": "code",
   "execution_count": 3,
   "id": "6f39d43a",
   "metadata": {},
   "outputs": [],
   "source": [
    "def determine_uniqueness(x, n, df, thresh_vec=list(range(1, 6)), field='FairlyActiveMinutes'):\n",
    "    # VECTOR INITIALIZATION\n",
    "    all_IDs = set(df.index)\n",
    "    num_IDs = len(all_IDs)\n",
    "\n",
    "    compatible_dict = dict(zip(all_IDs, [np.zeros((len(thresh_vec), n))]*len(all_IDs)))\n",
    "\n",
    "    max_fam = max(df.loc[:, field])\n",
    "    min_fam = min(df.loc[:, field])\n",
    "    x_fam = [[0]*x for ele in range(n)]\n",
    "    for i in range(n):\n",
    "        for j in range(x):\n",
    "            x_fam[i][j] = random.randint(round(min_fam), round(max_fam))\n",
    "\n",
    "    # CHECKS\n",
    "    for i, user_i in enumerate(all_IDs):\n",
    "        user_data = list(df.loc[user_i, field])\n",
    "        for j, subset in enumerate(x_fam):\n",
    "            for k, thresh in enumerate(thresh_vec):\n",
    "                counter = 0\n",
    "                for val in subset:\n",
    "                    for og_val in user_data:\n",
    "                        if abs(og_val - val) < thresh:\n",
    "                            counter += 1\n",
    "                if counter > x:\n",
    "                    compatible_dict[user_i][k, j] = 1\n",
    "\n",
    "    # UNIQUENESS\n",
    "    num_unique_IDs = np.zeros((len(thresh_vec), 1))\n",
    "\n",
    "    for i, user_i in enumerate(all_IDs):\n",
    "        for j in range(len(thresh_vec)):\n",
    "            if sum(compatible_dict[user_i][j, :]) == 1:\n",
    "                #print(F\"{user_i} UNIQUE IDENTIFICATION\")\n",
    "                num_unique_IDs[j, 0] += 1\n",
    "\n",
    "    return compatible_dict, num_unique_IDs"
   ]
  },
  {
   "cell_type": "markdown",
   "id": "1d13bce1",
   "metadata": {},
   "source": [
    "## Testing Functionalized Version\n",
    "> I keep getting only 0s or 33s... Implies either no one is unique or everyone is...\n"
   ]
  },
  {
   "cell_type": "code",
   "execution_count": 8,
   "id": "440907a5",
   "metadata": {},
   "outputs": [],
   "source": [
    "n = 1000"
   ]
  },
  {
   "cell_type": "code",
   "execution_count": 9,
   "id": "7354822a",
   "metadata": {},
   "outputs": [
    {
     "name": "stdout",
     "output_type": "stream",
     "text": [
      "[[0.]\n",
      " [0.]\n",
      " [0.]\n",
      " [0.]\n",
      " [0.]]\n"
     ]
    }
   ],
   "source": [
    "cdict_1, nuniqIDs_1 = determine_uniqueness(1, n, df)\n",
    "#print(cdict_1)\n",
    "print(nuniqIDs_1)"
   ]
  },
  {
   "cell_type": "code",
   "execution_count": 10,
   "id": "826a5de9",
   "metadata": {},
   "outputs": [
    {
     "name": "stdout",
     "output_type": "stream",
     "text": [
      "[[0.]\n",
      " [0.]\n",
      " [0.]\n",
      " [0.]\n",
      " [0.]]\n"
     ]
    }
   ],
   "source": [
    "cdict_2, nuniqIDs_2 = determine_uniqueness(2, n, df)\n",
    "#print(cdict_2)\n",
    "print(nuniqIDs_2)"
   ]
  },
  {
   "cell_type": "code",
   "execution_count": 11,
   "id": "46858df8",
   "metadata": {},
   "outputs": [
    {
     "name": "stdout",
     "output_type": "stream",
     "text": [
      "[[0.]\n",
      " [0.]\n",
      " [0.]\n",
      " [0.]\n",
      " [0.]]\n"
     ]
    }
   ],
   "source": [
    "cdict_3, nuniqIDs_3 = determine_uniqueness(3, n, df)\n",
    "#print(cdict_3)\n",
    "print(nuniqIDs_3)"
   ]
  },
  {
   "cell_type": "code",
   "execution_count": 12,
   "id": "d8be11de",
   "metadata": {},
   "outputs": [
    {
     "name": "stdout",
     "output_type": "stream",
     "text": [
      "[[0.]\n",
      " [0.]\n",
      " [0.]\n",
      " [0.]\n",
      " [0.]]\n"
     ]
    }
   ],
   "source": [
    "cdict_4, nuniqIDs_4 = determine_uniqueness(4, n, df)\n",
    "#print(cdict_4)\n",
    "print(nuniqIDs_4)"
   ]
  },
  {
   "cell_type": "code",
   "execution_count": 13,
   "id": "4d6971fc",
   "metadata": {},
   "outputs": [
    {
     "name": "stdout",
     "output_type": "stream",
     "text": [
      "[[0.]\n",
      " [0.]\n",
      " [0.]\n",
      " [0.]\n",
      " [0.]]\n"
     ]
    }
   ],
   "source": [
    "cdict_5, nuniqIDs_5 = determine_uniqueness(5, n, df)\n",
    "#print(cdict_5)\n",
    "print(nuniqIDs_5)"
   ]
  },
  {
   "cell_type": "code",
   "execution_count": 14,
   "id": "42e01b86",
   "metadata": {},
   "outputs": [
    {
     "name": "stdout",
     "output_type": "stream",
     "text": [
      "[[0.]\n",
      " [0.]\n",
      " [0.]\n",
      " [0.]\n",
      " [0.]]\n"
     ]
    }
   ],
   "source": [
    "cdict_10, nuniqIDs_10 = determine_uniqueness(10, n, df)\n",
    "#print(cdict_10)\n",
    "print(nuniqIDs_10)"
   ]
  },
  {
   "cell_type": "code",
   "execution_count": 15,
   "id": "e90a51ee",
   "metadata": {},
   "outputs": [
    {
     "name": "stdout",
     "output_type": "stream",
     "text": [
      "[[0.]\n",
      " [0.]\n",
      " [0.]\n",
      " [0.]\n",
      " [0.]]\n"
     ]
    }
   ],
   "source": [
    "cdict_50, nuniqIDs_50 = determine_uniqueness(50, n, df)\n",
    "#print(cdict_50)\n",
    "print(nuniqIDs_50)"
   ]
  },
  {
   "cell_type": "markdown",
   "id": "3429c130",
   "metadata": {},
   "source": [
    "## Testing VeryActiveDistance (2)"
   ]
  },
  {
   "cell_type": "code",
   "execution_count": 16,
   "id": "f3c77ad9",
   "metadata": {
    "scrolled": true
   },
   "outputs": [
    {
     "name": "stdout",
     "output_type": "stream",
     "text": [
      "[[0.]\n",
      " [0.]\n",
      " [0.]\n",
      " [0.]\n",
      " [0.]]\n"
     ]
    }
   ],
   "source": [
    "cdict_1, nuniqIDs_1 = determine_uniqueness(1, n, df, field='VeryActiveDistance')\n",
    "print(nuniqIDs_1)"
   ]
  },
  {
   "cell_type": "code",
   "execution_count": 17,
   "id": "777ba73e",
   "metadata": {},
   "outputs": [
    {
     "name": "stdout",
     "output_type": "stream",
     "text": [
      "[[0.]\n",
      " [0.]\n",
      " [0.]\n",
      " [0.]\n",
      " [0.]]\n"
     ]
    }
   ],
   "source": [
    "cdict_2, nuniqIDs_2 = determine_uniqueness(2, n, df, field='VeryActiveDistance')\n",
    "print(nuniqIDs_2)"
   ]
  },
  {
   "cell_type": "code",
   "execution_count": 18,
   "id": "efc6d9ee",
   "metadata": {},
   "outputs": [
    {
     "name": "stdout",
     "output_type": "stream",
     "text": [
      "[[0.]\n",
      " [0.]\n",
      " [0.]\n",
      " [0.]\n",
      " [0.]]\n"
     ]
    }
   ],
   "source": [
    "cdict_3, nuniqIDs_3 = determine_uniqueness(3, n, df, field='VeryActiveDistance')\n",
    "print(nuniqIDs_3)"
   ]
  },
  {
   "cell_type": "code",
   "execution_count": 19,
   "id": "7a983458",
   "metadata": {},
   "outputs": [
    {
     "name": "stdout",
     "output_type": "stream",
     "text": [
      "[[0.]\n",
      " [0.]\n",
      " [0.]\n",
      " [0.]\n",
      " [0.]]\n"
     ]
    }
   ],
   "source": [
    "cdict_4, nuniqIDs_4 = determine_uniqueness(4, n, df, field='VeryActiveDistance')\n",
    "print(nuniqIDs_4)"
   ]
  },
  {
   "cell_type": "code",
   "execution_count": 20,
   "id": "6d7b7859",
   "metadata": {},
   "outputs": [
    {
     "name": "stdout",
     "output_type": "stream",
     "text": [
      "[[0.]\n",
      " [0.]\n",
      " [0.]\n",
      " [0.]\n",
      " [0.]]\n"
     ]
    }
   ],
   "source": [
    "cdict_5, nuniqIDs_5 = determine_uniqueness(5, n, df, field='VeryActiveDistance')\n",
    "print(nuniqIDs_5)"
   ]
  },
  {
   "cell_type": "code",
   "execution_count": 21,
   "id": "6e063ac0",
   "metadata": {},
   "outputs": [
    {
     "name": "stdout",
     "output_type": "stream",
     "text": [
      "[[0.]\n",
      " [0.]\n",
      " [0.]\n",
      " [0.]\n",
      " [0.]]\n"
     ]
    }
   ],
   "source": [
    "cdict_50, nuniqIDs_50 = determine_uniqueness(50, n, df, field='VeryActiveDistance')\n",
    "print(nuniqIDs_50)"
   ]
  },
  {
   "cell_type": "markdown",
   "id": "0d207854",
   "metadata": {},
   "source": [
    "## Testing LightlyActiveMinutes (3)"
   ]
  },
  {
   "cell_type": "code",
   "execution_count": 22,
   "id": "5eb183ba",
   "metadata": {},
   "outputs": [
    {
     "name": "stdout",
     "output_type": "stream",
     "text": [
      "[[0.]\n",
      " [0.]\n",
      " [0.]\n",
      " [0.]\n",
      " [0.]]\n"
     ]
    }
   ],
   "source": [
    "cdict_1, nuniqIDs_1 = determine_uniqueness(1, n, df, field='LightlyActiveMinutes')\n",
    "print(nuniqIDs_1)"
   ]
  },
  {
   "cell_type": "code",
   "execution_count": 23,
   "id": "caf1963e",
   "metadata": {},
   "outputs": [
    {
     "name": "stdout",
     "output_type": "stream",
     "text": [
      "[[0.]\n",
      " [0.]\n",
      " [0.]\n",
      " [0.]\n",
      " [0.]]\n"
     ]
    }
   ],
   "source": [
    "cdict_2, nuniqIDs_2 = determine_uniqueness(2, n, df, field='LightlyActiveMinutes')\n",
    "print(nuniqIDs_2)"
   ]
  },
  {
   "cell_type": "code",
   "execution_count": 24,
   "id": "c72c854c",
   "metadata": {},
   "outputs": [
    {
     "name": "stdout",
     "output_type": "stream",
     "text": [
      "[[0.]\n",
      " [0.]\n",
      " [0.]\n",
      " [0.]\n",
      " [0.]]\n"
     ]
    }
   ],
   "source": [
    "cdict_3, nuniqIDs_3 = determine_uniqueness(3, n, df, field='LightlyActiveMinutes')\n",
    "print(nuniqIDs_3)"
   ]
  },
  {
   "cell_type": "code",
   "execution_count": 25,
   "id": "10fb9059",
   "metadata": {},
   "outputs": [
    {
     "name": "stdout",
     "output_type": "stream",
     "text": [
      "[[0.]\n",
      " [0.]\n",
      " [0.]\n",
      " [0.]\n",
      " [0.]]\n"
     ]
    }
   ],
   "source": [
    "cdict_4, nuniqIDs_4 = determine_uniqueness(4, n, df, field='LightlyActiveMinutes')\n",
    "print(nuniqIDs_4)"
   ]
  },
  {
   "cell_type": "code",
   "execution_count": 26,
   "id": "6f68e8c5",
   "metadata": {},
   "outputs": [
    {
     "name": "stdout",
     "output_type": "stream",
     "text": [
      "[[0.]\n",
      " [0.]\n",
      " [0.]\n",
      " [0.]\n",
      " [0.]]\n"
     ]
    }
   ],
   "source": [
    "cdict_5, nuniqIDs_5 = determine_uniqueness(5, n, df, field='LightlyActiveMinutes')\n",
    "print(nuniqIDs_5)"
   ]
  },
  {
   "cell_type": "code",
   "execution_count": 27,
   "id": "7236f38d",
   "metadata": {},
   "outputs": [
    {
     "name": "stdout",
     "output_type": "stream",
     "text": [
      "[[0.]\n",
      " [0.]\n",
      " [0.]\n",
      " [0.]\n",
      " [0.]]\n"
     ]
    }
   ],
   "source": [
    "cdict_50, nuniqIDs_50 = determine_uniqueness(50, n, df, field='LightlyActiveMinutes')\n",
    "print(nuniqIDs_50)"
   ]
  },
  {
   "cell_type": "code",
   "execution_count": 24,
   "id": "81f21258",
   "metadata": {},
   "outputs": [
    {
     "ename": "RuntimeError",
     "evalue": "No active exception to reraise",
     "output_type": "error",
     "traceback": [
      "\u001b[1;31m---------------------------------------------------------------------------\u001b[0m",
      "\u001b[1;31mRuntimeError\u001b[0m                              Traceback (most recent call last)",
      "\u001b[1;32m~\\AppData\\Local\\Temp/ipykernel_39908/2235509928.py\u001b[0m in \u001b[0;36m<module>\u001b[1;34m\u001b[0m\n\u001b[1;32m----> 1\u001b[1;33m \u001b[1;32mraise\u001b[0m\u001b[1;33m\u001b[0m\u001b[1;33m\u001b[0m\u001b[0m\n\u001b[0m",
      "\u001b[1;31mRuntimeError\u001b[0m: No active exception to reraise"
     ]
    }
   ],
   "source": [
    "raise"
   ]
  },
  {
   "cell_type": "markdown",
   "id": "bcfc38c2",
   "metadata": {},
   "source": [
    "# OLD VERSIONS\n",
    "## x = 1"
   ]
  },
  {
   "cell_type": "code",
   "execution_count": null,
   "id": "b4cfec4f",
   "metadata": {},
   "outputs": [],
   "source": [
    "x = 1\n",
    "\n",
    "max_fam = max(df.loc[:, \"FairlyActiveMinutes\"])\n",
    "min_fam = min(df.loc[:, \"FairlyActiveMinutes\"])\n",
    "\n",
    "x_fam = [0]*x\n",
    "for i in range(x):\n",
    "    x_fam[i] = random.randint(min_fam, max_fam)"
   ]
  },
  {
   "cell_type": "code",
   "execution_count": null,
   "id": "69f744c5",
   "metadata": {},
   "outputs": [],
   "source": [
    "occurence_list = list(np.zeros(6))\n",
    "\n",
    "thresh = 5\n",
    "thresh_vec = [0] * (2*thresh+1)\n",
    "for i, val in enumerate(thresh_vec):\n",
    "    thresh_vec[i] = i - thresh\n",
    "\n",
    "all_IDs = set(df.loc[:, \"Id\"])\n",
    "occurence_dict = dict(zip(all_IDs, np.array([np.zeros(len(thresh_vec))]*len(all_IDs))))\n",
    "compatible_dict = dict(zip(all_IDs, np.array([np.zeros(len(thresh_vec))]*len(all_IDs))))\n",
    "\n",
    "for i, thresh_val in enumerate(thresh_vec):\n",
    "    for j in range(n_rows):\n",
    "        for xfam_val in x_fam: \n",
    "            if (df.iloc[j,1]-xfam_val < thresh_val):\n",
    "                occurence_dict[df.iloc[j,0]][i] += 1\n",
    "        if occurence_dict[df.iloc[j,0]][i] > x:\n",
    "            compatible_dict[df.iloc[j,0]][i] = 1"
   ]
  },
  {
   "cell_type": "code",
   "execution_count": null,
   "id": "ecbb2156",
   "metadata": {
    "scrolled": false
   },
   "outputs": [],
   "source": [
    "occurence_dict"
   ]
  },
  {
   "cell_type": "code",
   "execution_count": null,
   "id": "2c871044",
   "metadata": {},
   "outputs": [],
   "source": [
    "compatible_dict"
   ]
  },
  {
   "cell_type": "markdown",
   "id": "f93f1157",
   "metadata": {},
   "source": [
    "## x = 1 but with newer method"
   ]
  },
  {
   "cell_type": "code",
   "execution_count": null,
   "id": "5acba72a",
   "metadata": {},
   "outputs": [],
   "source": [
    "x = 1\n",
    "n = 5\n",
    "\n",
    "max_fam = max(df.loc[:, \"FairlyActiveMinutes\"])\n",
    "min_fam = min(df.loc[:, \"FairlyActiveMinutes\"])\n",
    "\n",
    "x_fam = [0]*x\n",
    "for i in range(x):\n",
    "    x_fam[i] = random.randint(min_fam, max_fam)\n",
    "\n",
    "thresh = 5\n",
    "#thresh_vec = [0] * (2*thresh+1)\n",
    "#for i, val in enumerate(thresh_vec):\n",
    "#    thresh_vec[i] = i - thresh\n",
    "thresh_vec = list(range(1, 6))\n",
    "\n",
    "all_IDs = set(df.loc[:, \"Id\"])\n",
    "occurence_dict = dict(zip(all_IDs, np.array([np.zeros(len(thresh_vec))]*len(all_IDs))))\n",
    "compatible_dict = dict(zip(all_IDs, np.array([np.zeros(len(thresh_vec))]*len(all_IDs))))\n",
    "\n",
    "x_fam = [[0]*x for ele in range(n)]\n",
    "for i in range(n):\n",
    "    for j in range(x):\n",
    "        x_fam[i][j] = random.randint(min_fam, max_fam)\n",
    "\n",
    "for i, thresh_val in enumerate(thresh_vec):\n",
    "    for j in range(n_rows):\n",
    "        for subset in x_fam:\n",
    "            for k, val in enumerate(subset):\n",
    "                if (abs(df.iloc[j,1]-val) < thresh_val):\n",
    "                    if (j+1<n_rows) and (k<(len(subset)-1)) and (abs(df.iloc[j+1,1]-subset[k+1]) < thresh_val):\n",
    "                        occurence_dict[df.iloc[j,0]][i] += 1\n",
    "                    elif x==1:\n",
    "                        occurence_dict[df.iloc[j,0]][i] += 1\n",
    "        if occurence_dict[df.iloc[j,0]][i] > x:\n",
    "            compatible_dict[df.iloc[j,0]][i] = 1"
   ]
  },
  {
   "cell_type": "code",
   "execution_count": null,
   "id": "95520195",
   "metadata": {},
   "outputs": [],
   "source": [
    "occurence_dict"
   ]
  },
  {
   "cell_type": "code",
   "execution_count": null,
   "id": "d8b3f436",
   "metadata": {},
   "outputs": [],
   "source": [
    "compatible_dict"
   ]
  },
  {
   "cell_type": "markdown",
   "id": "19d7dd5c",
   "metadata": {},
   "source": [
    "## x = 2"
   ]
  },
  {
   "cell_type": "code",
   "execution_count": null,
   "id": "90cb3459",
   "metadata": {},
   "outputs": [],
   "source": [
    "x = 2\n",
    "n = 5\n",
    "\n",
    "max_fam = max(df.loc[:, \"FairlyActiveMinutes\"])\n",
    "min_fam = min(df.loc[:, \"FairlyActiveMinutes\"])\n",
    "\n",
    "x_fam = [0]*x\n",
    "for i in range(x):\n",
    "    x_fam[i] = random.randint(min_fam, max_fam)\n",
    "\n",
    "thresh = 5\n",
    "#thresh_vec = [0] * (2*thresh+1)\n",
    "#for i, val in enumerate(thresh_vec):\n",
    "#    thresh_vec[i] = i - thresh\n",
    "thresh_vec = list(range(1, 6))\n",
    "\n",
    "all_IDs = set(df.loc[:, \"Id\"])\n",
    "occurence_dict = dict(zip(all_IDs, np.array([np.zeros(len(thresh_vec))]*len(all_IDs))))\n",
    "compatible_dict = dict(zip(all_IDs, np.array([np.zeros(len(thresh_vec))]*len(all_IDs))))\n",
    "\n",
    "x_fam = [[0]*x for ele in range(n)]\n",
    "for i in range(n):\n",
    "    for j in range(x):\n",
    "        x_fam[i][j] = random.randint(min_fam, max_fam)\n",
    "x_fam"
   ]
  },
  {
   "cell_type": "code",
   "execution_count": null,
   "id": "75575b88",
   "metadata": {},
   "outputs": [],
   "source": [
    "for i, thresh_val in enumerate(thresh_vec):\n",
    "    for j in range(n_rows):\n",
    "        for subset in x_fam:\n",
    "            for k, val in enumerate(subset):\n",
    "                if (abs(df.iloc[j,1]-val) < thresh_val):\n",
    "                    if (j+1<n_rows) and (k<(len(subset)-1)) and (abs(df.iloc[j+1,1]-subset[k+1]) < thresh_val):\n",
    "                        occurence_dict[df.iloc[j,0]][i] += 1\n",
    "                    elif x==1:\n",
    "                        occurence_dict[df.iloc[j,0]][i] += 1\n",
    "        if occurence_dict[df.iloc[j,0]][i] > x:\n",
    "            compatible_dict[df.iloc[j,0]][i] = 1"
   ]
  },
  {
   "cell_type": "code",
   "execution_count": null,
   "id": "0281cca7",
   "metadata": {
    "scrolled": false
   },
   "outputs": [],
   "source": [
    "occurence_dict"
   ]
  },
  {
   "cell_type": "code",
   "execution_count": null,
   "id": "6586c5aa",
   "metadata": {},
   "outputs": [],
   "source": [
    "compatible_dict"
   ]
  },
  {
   "cell_type": "markdown",
   "id": "cb43e09c",
   "metadata": {},
   "source": [
    "## x = 3"
   ]
  },
  {
   "cell_type": "code",
   "execution_count": null,
   "id": "70ce2c5a",
   "metadata": {},
   "outputs": [],
   "source": [
    "x = 3\n",
    "n = 5\n",
    "\n",
    "max_fam = max(df.loc[:, \"FairlyActiveMinutes\"])\n",
    "min_fam = min(df.loc[:, \"FairlyActiveMinutes\"])\n",
    "\n",
    "x_fam = [0]*x\n",
    "for i in range(x):\n",
    "    x_fam[i] = random.randint(min_fam, max_fam)\n",
    "\n",
    "thresh_vec = list(range(1, 6))\n",
    "\n",
    "all_IDs = set(df.loc[:, \"Id\"])\n",
    "occurence_dict = dict(zip(all_IDs, np.array([np.zeros(len(thresh_vec))]*len(all_IDs))))\n",
    "compatible_dict = dict(zip(all_IDs, np.array([np.zeros(len(thresh_vec))]*len(all_IDs))))\n",
    "\n",
    "x_fam = [[0]*x for ele in range(n)]\n",
    "for i in range(n):\n",
    "    for j in range(x):\n",
    "        x_fam[i][j] = random.randint(min_fam, max_fam)\n",
    "\n",
    "for i, thresh_val in enumerate(thresh_vec):\n",
    "    for j in range(n_rows):\n",
    "        for subset in x_fam:\n",
    "            for k, val in enumerate(subset):\n",
    "                counter = 0\n",
    "                if (abs(df.iloc[j,1]-val) < thresh_val):\n",
    "                    counter += 1\n",
    "            if counter =\n",
    "                '''\n",
    "                if (abs(df.iloc[j,1]-val) < thresh_val):\n",
    "                    if (j+1<n_rows) and (k<(len(subset)-1)) and (abs(df.iloc[j+1,1]-subset[k+1]) < thresh_val):\n",
    "                        occurence_dict[df.iloc[j,0]][i] += 1\n",
    "                    elif x==1:\n",
    "                        occurence_dict[df.iloc[j,0]][i] += 1\n",
    "                '''\n",
    "        if occurence_dict[df.iloc[j,0]][i] > x:\n",
    "            compatible_dict[df.iloc[j,0]][i] = 1"
   ]
  },
  {
   "cell_type": "code",
   "execution_count": null,
   "id": "7795742b",
   "metadata": {},
   "outputs": [],
   "source": [
    "occurence_dict"
   ]
  },
  {
   "cell_type": "code",
   "execution_count": null,
   "id": "dec5ff76",
   "metadata": {},
   "outputs": [],
   "source": [
    "compatible_dict"
   ]
  },
  {
   "cell_type": "code",
   "execution_count": null,
   "id": "266aee2a",
   "metadata": {},
   "outputs": [],
   "source": [
    "\"\"\"\n",
    "# CHECKS\n",
    "for k, thresh_val in enumerate(thresh_vec):\n",
    "    for j, ID in enumerate(num_IDs):\n",
    "        for i,  in emuerate(subsets):\n",
    "        \n",
    "        \n",
    "    for j in range(n_rows):\n",
    "        for subset in x_fam:\n",
    "            for k, val in enumerate(subset):\n",
    "                counter = 0\n",
    "                if (abs(df.iloc[j,1]-val) < thresh_val):\n",
    "                    counter += 1\n",
    "            if counter =\n",
    "                '''\n",
    "                if (abs(df.iloc[j,1]-val) < thresh_val):\n",
    "                    if (j+1<n_rows) and (k<(len(subset)-1)) and (abs(df.iloc[j+1,1]-subset[k+1]) < thresh_val):\n",
    "                        occurence_dict[df.iloc[j,0]][i] += 1\n",
    "                    elif x==1:\n",
    "                        occurence_dict[df.iloc[j,0]][i] += 1\n",
    "                '''\n",
    "        if occurence_dict[df.iloc[j,0]][i] > x:\n",
    "            compatible_dict[df.iloc[j,0]][i] = 1\n",
    "\"\"\"\n",
    "0"
   ]
  },
  {
   "cell_type": "code",
   "execution_count": null,
   "id": "e48c24ea",
   "metadata": {},
   "outputs": [],
   "source": [
    "'''\n",
    "occurence_list = list(np.zeros(6))\n",
    "\n",
    "for idx, thresh in enumerate(range(1,6)):\n",
    "    thresh_vec = [0] * (2*thresh+1)\n",
    "    for i, val in enumerate(thresh_vec):\n",
    "        thresh_vec[i] = i - thresh\n",
    "\n",
    "    all_IDs = set(df.loc[:, \"Id\"])\n",
    "    occurence_list[idx] = dict(zip(all_IDs, np.array([np.zeros(len(thresh_vec))]*len(all_IDs))))\n",
    "    \n",
    "    for i, thresh_val in enumerate(thresh_vec):\n",
    "        for j in range(n_rows):\n",
    "            for xfam_val in x_fam: \n",
    "                if (df.iloc[j,1]-xfam_val < thresh_val):\n",
    "                    occurence_list[idx][df.iloc[j,0]][i] += 1\n",
    "'''\n",
    "0"
   ]
  },
  {
   "cell_type": "code",
   "execution_count": null,
   "id": "326613c1",
   "metadata": {},
   "outputs": [],
   "source": []
  }
 ],
 "metadata": {
  "kernelspec": {
   "display_name": "Python 3 (ipykernel)",
   "language": "python",
   "name": "python3"
  },
  "language_info": {
   "codemirror_mode": {
    "name": "ipython",
    "version": 3
   },
   "file_extension": ".py",
   "mimetype": "text/x-python",
   "name": "python",
   "nbconvert_exporter": "python",
   "pygments_lexer": "ipython3",
   "version": "3.7.11"
  }
 },
 "nbformat": 4,
 "nbformat_minor": 5
}
