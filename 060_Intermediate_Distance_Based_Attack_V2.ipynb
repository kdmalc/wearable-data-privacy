{
 "cells": [
  {
   "cell_type": "code",
   "execution_count": 1,
   "id": "f9009d01",
   "metadata": {},
   "outputs": [],
   "source": [
    "import pandas as pd\n",
    "import numpy as np\n",
    "import matplotlib.pyplot as plt\n",
    "import random\n",
    "from scipy.special import rel_entr"
   ]
  },
  {
   "cell_type": "code",
   "execution_count": 2,
   "id": "d51d0153",
   "metadata": {},
   "outputs": [
    {
     "data": {
      "text/html": [
       "<div>\n",
       "<style scoped>\n",
       "    .dataframe tbody tr th:only-of-type {\n",
       "        vertical-align: middle;\n",
       "    }\n",
       "\n",
       "    .dataframe tbody tr th {\n",
       "        vertical-align: top;\n",
       "    }\n",
       "\n",
       "    .dataframe thead th {\n",
       "        text-align: right;\n",
       "    }\n",
       "</style>\n",
       "<table border=\"1\" class=\"dataframe\">\n",
       "  <thead>\n",
       "    <tr style=\"text-align: right;\">\n",
       "      <th></th>\n",
       "      <th>Id</th>\n",
       "      <th>FairlyActiveMinutes</th>\n",
       "    </tr>\n",
       "  </thead>\n",
       "  <tbody>\n",
       "    <tr>\n",
       "      <th>0</th>\n",
       "      <td>1503960366</td>\n",
       "      <td>13</td>\n",
       "    </tr>\n",
       "    <tr>\n",
       "      <th>1</th>\n",
       "      <td>1503960366</td>\n",
       "      <td>19</td>\n",
       "    </tr>\n",
       "    <tr>\n",
       "      <th>2</th>\n",
       "      <td>1503960366</td>\n",
       "      <td>11</td>\n",
       "    </tr>\n",
       "    <tr>\n",
       "      <th>3</th>\n",
       "      <td>1503960366</td>\n",
       "      <td>34</td>\n",
       "    </tr>\n",
       "    <tr>\n",
       "      <th>4</th>\n",
       "      <td>1503960366</td>\n",
       "      <td>10</td>\n",
       "    </tr>\n",
       "  </tbody>\n",
       "</table>\n",
       "</div>"
      ],
      "text/plain": [
       "           Id  FairlyActiveMinutes\n",
       "0  1503960366                   13\n",
       "1  1503960366                   19\n",
       "2  1503960366                   11\n",
       "3  1503960366                   34\n",
       "4  1503960366                   10"
      ]
     },
     "execution_count": 2,
     "metadata": {},
     "output_type": "execute_result"
    }
   ],
   "source": [
    "################## DATA FRAME ##################\n",
    "datafile = 'Data/Fitbit_Kaggle/dailyActivity_merged.csv'\n",
    "all_fields = ['Id', 'ActivityDate', 'TotalSteps', 'TotalDistance', 'TrackerDistance', \n",
    "          'VeryActiveDistance', 'ModeratelyActiveDistance', 'LightActiveDistance', 'SedentaryActiveDistance', \n",
    "          'VeryActiveMinutes', 'FairlyActiveMinutes', 'LightlyActiveMinutes', 'SedentaryMinutes', 'Calories']\n",
    "\n",
    "#pd.set_option('display.max_rows', 100)\n",
    "df = pd.read_csv(datafile, skipinitialspace=True, usecols=all_fields)\n",
    "fields = 'FairlyActiveMinutes'\n",
    "selected_data = df[['Id',fields]]\n",
    "n_rows, n_cols = df.shape\n",
    "\n",
    "selected_data.head()"
   ]
  },
  {
   "cell_type": "markdown",
   "id": "26c0621a",
   "metadata": {},
   "source": [
    "## Generate attack vectors\n",
    "> Using the full vectors, only 1 field"
   ]
  },
  {
   "cell_type": "code",
   "execution_count": 3,
   "id": "846917da",
   "metadata": {},
   "outputs": [],
   "source": [
    "all_IDs = df.Id.unique()\n",
    "num_users = len(all_IDs)\n",
    "\n",
    "user_dict = dict()\n",
    "for idx, user in enumerate(all_IDs):\n",
    "    temp_df = df.loc[df['Id'] == user]\n",
    "    user_dict[user] = temp_df[fields].values"
   ]
  },
  {
   "cell_type": "code",
   "execution_count": 4,
   "id": "ec4b5dee",
   "metadata": {},
   "outputs": [],
   "source": [
    "#test_IDs = all_IDs[[0, 1]]\n",
    "test_IDs = all_IDs[[0, 6, 11, 15, 16, 25]]  #5, 10, 20, 30\n",
    "n_attack_training = len(test_IDs)\n",
    "\n",
    "training_IDs = [ID for ID in all_IDs if ID not in test_IDs]\n",
    "attack_IDs = list(test_IDs) + list(training_IDs[0:n_attack_training])\n",
    "\n",
    "#ths = [0]\n",
    "ths = [0, 2, 5]"
   ]
  },
  {
   "cell_type": "code",
   "execution_count": 5,
   "id": "2982aa39",
   "metadata": {},
   "outputs": [],
   "source": [
    "#attack_IDs = [1503960366]\n",
    "#training_IDs = [5577150313, 6117666160, 6290855005, 6775888955]\n",
    "\n",
    "# Max number of elements for any field\n",
    "max_elements = 31\n",
    "\n",
    "data_storage = np.zeros((len(attack_IDs), len(training_IDs), len(ths), max_elements))\n",
    "accuracy_matrix = np.zeros((len(attack_IDs), len(training_IDs), len(ths)))"
   ]
  },
  {
   "cell_type": "code",
   "execution_count": 6,
   "id": "12f3c912",
   "metadata": {},
   "outputs": [],
   "source": [
    "for i, attack_ID in enumerate(attack_IDs):\n",
    "    for j, training_ID in enumerate(training_IDs):\n",
    "        #for k, training_value in enumerate(user_dict[training_ID]):\n",
    "        for l, th in enumerate(ths):\n",
    "            for m, attack_value in enumerate(user_dict[attack_ID]):\n",
    "                if (abs(np.array(user_dict[training_ID]) - attack_value) <= th).any():\n",
    "                    # Then this given attack value is in the given person's vector\n",
    "                    #print(f\"{attack_value} found in training array: {attack_value in user_dict[training_ID]}\")\n",
    "                    data_storage[i,j,l,m] = 1\n",
    "                else:\n",
    "                    #print(f\"{attack_value} NOT found in training array: {not (attack_value in user_dict[training_ID])}\")\n",
    "                    pass\n",
    "                    \n",
    "            # Once we have established membership for all attack values:\n",
    "            # Calculate the accuracy of that given vector\n",
    "            # E.g. percentage score of how many of attack values were present in given person\n",
    "            accuracy_matrix[i,j,l] = sum(data_storage[i,j,l,:]) / len(user_dict[attack_ID])\n",
    "        #print(\"--------------------------------------------\")\n",
    "            "
   ]
  },
  {
   "cell_type": "code",
   "execution_count": 7,
   "id": "8e000d71",
   "metadata": {},
   "outputs": [
    {
     "data": {
      "text/plain": [
       "(12, 27, 3)"
      ]
     },
     "execution_count": 7,
     "metadata": {},
     "output_type": "execute_result"
    }
   ],
   "source": [
    "accuracy_matrix.shape\n",
    "#accuracy_matrix[:,:,0]"
   ]
  },
  {
   "cell_type": "code",
   "execution_count": 8,
   "id": "31cd96e0",
   "metadata": {},
   "outputs": [
    {
     "name": "stdout",
     "output_type": "stream",
     "text": [
      "Th=0: Correct number of positives found (6)!\n",
      "Th=2: Correct number of positives found (6)!\n",
      "Th=5: Correct number of positives found (6)!\n"
     ]
    }
   ],
   "source": [
    "true_positives = [0] * len(ths)\n",
    "false_negatives = [0] * len(ths)\n",
    "#label_matrix = np.zeros((accuracy_matrix.shape))\n",
    "\n",
    "for attack_idx, attack_ID in enumerate(attack_IDs):\n",
    "    if attack_ID in training_IDs:\n",
    "        label_idx = training_IDs.index(attack_ID)\n",
    "        for j in range(len(ths)):\n",
    "            #label_matrix[attack_idx, label_idx, j] = 1\n",
    "            if accuracy_matrix[attack_idx, label_idx, j] == 1:\n",
    "                true_positives[j] += 1\n",
    "            else:\n",
    "                false_negatives[j] += 1\n",
    "            #print(f\"Accuracy Matrix: {accuracy_matrix[attack_idx, label_idx, j]} VS Label Matrix: {label_matrix[attack_idx, label_idx, j]}\")\n",
    "\n",
    "for j in range(len(ths)):\n",
    "    if true_positives[j] == n_attack_training:\n",
    "        # Note that this is not necessarily mean all of them were true positives\n",
    "        print(f\"Th={ths[j]}: Correct number of positives found ({true_positives[j]})!\")\n",
    "    else:\n",
    "        print(f\"Th={ths[j]}: Incorrect number of positives... found {true_positives[j]} vs expected {n_attack_training[j]}\")"
   ]
  },
  {
   "cell_type": "code",
   "execution_count": 9,
   "id": "3255d63b",
   "metadata": {},
   "outputs": [
    {
     "name": "stdout",
     "output_type": "stream",
     "text": [
      "Th=0: Precision of 24.00\n",
      "Th=0: Recall of 100.00\n",
      "Th=0: Accuracy of 98.05\n",
      "\n",
      "Th=2: Precision of 5.31\n",
      "Th=2: Recall of 100.00\n",
      "Th=2: Accuracy of 88.99\n",
      "\n",
      "Th=5: Precision of 3.68\n",
      "Th=5: Recall of 100.00\n",
      "Th=5: Accuracy of 83.85\n",
      "\n"
     ]
    }
   ],
   "source": [
    "precision = [0] * len(ths)\n",
    "recall = [0] * len(ths)\n",
    "accuracy = [0] * len(ths)\n",
    "\n",
    "for j in range(len(ths)):\n",
    "    all_positives = np.count_nonzero(accuracy_matrix[:,:,j] == 1) \n",
    "    false_positives = all_positives - true_positives[j]\n",
    "    true_negatives = np.product(accuracy_matrix.shape) - all_positives - false_negatives[j]\n",
    "        \n",
    "    precision[j] = true_positives[j] / (true_positives[j] + false_positives)\n",
    "    print(f\"Th={ths[j]}: Precision of {precision[j]*100:.2f}\")\n",
    "    recall[j] = true_positives[j] / (true_positives[j] + false_negatives[j])\n",
    "    print(f\"Th={ths[j]}: Recall of {recall[j]*100:.2f}\")\n",
    "    accuracy[j] = (true_positives[j] + true_negatives) / np.product(accuracy_matrix.shape)\n",
    "    print(f\"Th={ths[j]}: Accuracy of {accuracy[j]*100:.2f}\")\n",
    "    print()"
   ]
  },
  {
   "cell_type": "markdown",
   "id": "14dae700",
   "metadata": {},
   "source": [
    "## Conclusions\n",
    "As you can see from the above, when the attack vector was one of the vectors taken from the training set, the accuracy matrix generated scores of 1 (100%, e.g. 100% of the elements from the attack vector matched with its training vector correspondent), as would be expected.  However, the accuracy matrix also reports scores of 1 for a few other vectors, namely ones where the attack vector matched perfectly to the training vector, but it was not that training vector.\n",
    "<br>\n",
    "<br>\n",
    "The way this code was executed is that it simply subtracts the current attack value (e.g. the current value pulled from the given attack vector) from the full training vector, and if any of the resulting values in the new array are less than or equal to the threshold (for now, th=0 only), then it counts the attack value as found in the training vector.  This process is repeated for each training vector, in order to generate a boolean matrix of \"hits\" and \"misses\" depending on whether or not each attack value was found in each training vector.\n",
    "> (abs(np.array(user_dict[training_ID]) - attack_value) <= th).any()\n",
    "\n",
    "## Next Steps\n",
    "> An improved version of this code can be found in NB 061\n",
    "\n",
    "<br>\n",
    "\n",
    "The next steps would be to functionalize the above, and simulate a real attacker, going through multiple runs, where each run consists of randomly sampled values (e.g. random users selected for testing sets and random users pulled from the training set)"
   ]
  },
  {
   "cell_type": "code",
   "execution_count": null,
   "id": "13e2f50d",
   "metadata": {},
   "outputs": [],
   "source": []
  }
 ],
 "metadata": {
  "kernelspec": {
   "display_name": "Python 3 (ipykernel)",
   "language": "python",
   "name": "python3"
  },
  "language_info": {
   "codemirror_mode": {
    "name": "ipython",
    "version": 3
   },
   "file_extension": ".py",
   "mimetype": "text/x-python",
   "name": "python",
   "nbconvert_exporter": "python",
   "pygments_lexer": "ipython3",
   "version": "3.7.12"
  }
 },
 "nbformat": 4,
 "nbformat_minor": 5
}
