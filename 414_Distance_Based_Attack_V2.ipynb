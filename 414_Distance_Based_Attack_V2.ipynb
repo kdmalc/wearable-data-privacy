{
 "cells": [
  {
   "cell_type": "code",
   "execution_count": 1,
   "id": "f9009d01",
   "metadata": {},
   "outputs": [],
   "source": [
    "import pandas as pd\n",
    "import numpy as np\n",
    "import matplotlib.pyplot as plt\n",
    "import random\n",
    "from scipy.special import rel_entr"
   ]
  },
  {
   "cell_type": "code",
   "execution_count": 2,
   "id": "d51d0153",
   "metadata": {},
   "outputs": [],
   "source": [
    "################## DATA FRAME ##################\n",
    "datafile = 'Data/Fitbit_Kaggle/dailyActivity_merged.csv'\n",
    "all_fields = ['Id', 'ActivityDate', 'TotalSteps', 'TotalDistance', 'TrackerDistance', \n",
    "          'VeryActiveDistance', 'ModeratelyActiveDistance', 'LightActiveDistance', 'SedentaryActiveDistance', \n",
    "          'VeryActiveMinutes', 'FairlyActiveMinutes', 'LightlyActiveMinutes', 'SedentaryMinutes', 'Calories']\n",
    "\n",
    "#pd.set_option('display.max_rows', 100)\n",
    "df = pd.read_csv(datafile, skipinitialspace=True, usecols=all_fields)\n",
    "fields = 'FairlyActiveMinutes'\n",
    "selected_data = df[['Id',fields]]\n",
    "n_rows, n_cols = df.shape"
   ]
  },
  {
   "cell_type": "code",
   "execution_count": 3,
   "id": "0a635b6c",
   "metadata": {},
   "outputs": [
    {
     "data": {
      "text/html": [
       "<div>\n",
       "<style scoped>\n",
       "    .dataframe tbody tr th:only-of-type {\n",
       "        vertical-align: middle;\n",
       "    }\n",
       "\n",
       "    .dataframe tbody tr th {\n",
       "        vertical-align: top;\n",
       "    }\n",
       "\n",
       "    .dataframe thead th {\n",
       "        text-align: right;\n",
       "    }\n",
       "</style>\n",
       "<table border=\"1\" class=\"dataframe\">\n",
       "  <thead>\n",
       "    <tr style=\"text-align: right;\">\n",
       "      <th></th>\n",
       "      <th>Id</th>\n",
       "      <th>FairlyActiveMinutes</th>\n",
       "    </tr>\n",
       "  </thead>\n",
       "  <tbody>\n",
       "    <tr>\n",
       "      <th>0</th>\n",
       "      <td>1503960366</td>\n",
       "      <td>13</td>\n",
       "    </tr>\n",
       "    <tr>\n",
       "      <th>1</th>\n",
       "      <td>1503960366</td>\n",
       "      <td>19</td>\n",
       "    </tr>\n",
       "    <tr>\n",
       "      <th>2</th>\n",
       "      <td>1503960366</td>\n",
       "      <td>11</td>\n",
       "    </tr>\n",
       "    <tr>\n",
       "      <th>3</th>\n",
       "      <td>1503960366</td>\n",
       "      <td>34</td>\n",
       "    </tr>\n",
       "    <tr>\n",
       "      <th>4</th>\n",
       "      <td>1503960366</td>\n",
       "      <td>10</td>\n",
       "    </tr>\n",
       "  </tbody>\n",
       "</table>\n",
       "</div>"
      ],
      "text/plain": [
       "           Id  FairlyActiveMinutes\n",
       "0  1503960366                   13\n",
       "1  1503960366                   19\n",
       "2  1503960366                   11\n",
       "3  1503960366                   34\n",
       "4  1503960366                   10"
      ]
     },
     "execution_count": 3,
     "metadata": {},
     "output_type": "execute_result"
    }
   ],
   "source": [
    "selected_data.head()"
   ]
  },
  {
   "cell_type": "markdown",
   "id": "26c0621a",
   "metadata": {},
   "source": [
    "## Generate attack vectors"
   ]
  },
  {
   "cell_type": "code",
   "execution_count": 4,
   "id": "846917da",
   "metadata": {},
   "outputs": [],
   "source": [
    "#['TotalSteps', 'TotalDistance', 'TrackerDistance', \n",
    "#          'VeryActiveDistance', 'ModeratelyActiveDistance', 'LightActiveDistance', \n",
    "#          'VeryActiveMinutes', 'FairlyActiveMinutes', 'LightlyActiveMinutes', 'SedentaryMinutes', 'Calories']\n",
    "\n",
    "all_IDs = df.Id.unique()\n",
    "num_users = len(all_IDs)\n",
    "\n",
    "user_dict = dict()\n",
    "for idx, user in enumerate(all_IDs):\n",
    "    temp_df = df.loc[df['Id'] == user]\n",
    "    user_dict[user] = temp_df[fields].values"
   ]
  },
  {
   "cell_type": "code",
   "execution_count": 28,
   "id": "ec4b5dee",
   "metadata": {},
   "outputs": [],
   "source": [
    "test_IDs = all_IDs[[0, 1]]  # [0, 5, 6, 10, 11, 15, 16, 20, 25, 30]\n",
    "training_IDs = [ID for ID in all_IDs if ID not in test_IDs]\n",
    "attack_IDs = list(test_IDs) + list(training_IDs[0:2])\n",
    "\n",
    "ths = [0]"
   ]
  },
  {
   "cell_type": "code",
   "execution_count": 41,
   "id": "2982aa39",
   "metadata": {},
   "outputs": [],
   "source": [
    "attack_IDs = [1503960366]\n",
    "training_IDs = [5577150313, 6117666160, 6290855005, 6775888955]\n",
    "\n",
    "# Max number of elements for any field\n",
    "max_elements = 31\n",
    "\n",
    "data_storage = np.zeros((len(attack_IDs), len(training_IDs), len(ths), max_elements))\n",
    "accuracy_matrix = np.zeros((len(attack_IDs), len(training_IDs), len(ths)))"
   ]
  },
  {
   "cell_type": "code",
   "execution_count": 42,
   "id": "12f3c912",
   "metadata": {},
   "outputs": [],
   "source": [
    "for i, attack_ID in enumerate(attack_IDs):\n",
    "    for j, training_ID in enumerate(training_IDs):\n",
    "        #for k, training_value in enumerate(user_dict[training_ID]):\n",
    "        for l, th in enumerate(ths):\n",
    "            for m, attack_value in enumerate(user_dict[attack_ID]):\n",
    "                if ((np.array(user_dict[training_ID]) - attack_value) < th).any():\n",
    "                    # Then this given attack value is in the given person's vector\n",
    "                    data_storage[i,j,l,m] = 1\n",
    "                    \n",
    "            # Once we have established membership for all attack values:\n",
    "            # Calculate the accuracy of that given vector\n",
    "            # E.g. percentage score of how many of attack values were present in given person\n",
    "            accuracy_matrix[i,j,l] = sum(data_storage[i,j,l,:]) / len(user_dict[attack_ID])\n",
    "            "
   ]
  },
  {
   "cell_type": "code",
   "execution_count": null,
   "id": "7fb16226",
   "metadata": {},
   "outputs": [],
   "source": [
    "attack_IDs = [1503960366]\n",
    "training_IDs = [5577150313, 6117666160, 6290855005, 6775888955]"
   ]
  },
  {
   "cell_type": "code",
   "execution_count": 57,
   "id": "13030305",
   "metadata": {},
   "outputs": [
    {
     "data": {
      "text/plain": [
       "{0,\n",
       " 5,\n",
       " 6,\n",
       " 8,\n",
       " 10,\n",
       " 11,\n",
       " 12,\n",
       " 13,\n",
       " 14,\n",
       " 15,\n",
       " 16,\n",
       " 19,\n",
       " 20,\n",
       " 21,\n",
       " 22,\n",
       " 23,\n",
       " 24,\n",
       " 27,\n",
       " 28,\n",
       " 31,\n",
       " 34,\n",
       " 35,\n",
       " 46}"
      ]
     },
     "execution_count": 57,
     "metadata": {},
     "output_type": "execute_result"
    }
   ],
   "source": [
    "set(user_dict[1503960366])"
   ]
  },
  {
   "cell_type": "code",
   "execution_count": null,
   "id": "0b736266",
   "metadata": {},
   "outputs": [],
   "source": []
  },
  {
   "cell_type": "code",
   "execution_count": null,
   "id": "cd40c53a",
   "metadata": {},
   "outputs": [],
   "source": []
  },
  {
   "cell_type": "code",
   "execution_count": 56,
   "id": "b12cd317",
   "metadata": {},
   "outputs": [
    {
     "data": {
      "text/plain": [
       "{0,\n",
       " 8,\n",
       " 9,\n",
       " 11,\n",
       " 15,\n",
       " 16,\n",
       " 20,\n",
       " 21,\n",
       " 23,\n",
       " 24,\n",
       " 30,\n",
       " 32,\n",
       " 36,\n",
       " 37,\n",
       " 38,\n",
       " 45,\n",
       " 51,\n",
       " 54,\n",
       " 56,\n",
       " 65,\n",
       " 72,\n",
       " 74}"
      ]
     },
     "execution_count": 56,
     "metadata": {},
     "output_type": "execute_result"
    }
   ],
   "source": [
    "set(user_dict[5577150313])"
   ]
  },
  {
   "cell_type": "code",
   "execution_count": 53,
   "id": "1f70e300",
   "metadata": {},
   "outputs": [
    {
     "data": {
      "text/plain": [
       "{0, 6, 7, 10, 15, 19}"
      ]
     },
     "execution_count": 53,
     "metadata": {},
     "output_type": "execute_result"
    }
   ],
   "source": [
    "set(user_dict[6117666160])"
   ]
  },
  {
   "cell_type": "code",
   "execution_count": 54,
   "id": "5b119438",
   "metadata": {},
   "outputs": [
    {
     "data": {
      "text/plain": [
       "{0, 3, 12, 95}"
      ]
     },
     "execution_count": 54,
     "metadata": {},
     "output_type": "execute_result"
    }
   ],
   "source": [
    "set(user_dict[6290855005])"
   ]
  },
  {
   "cell_type": "code",
   "execution_count": 55,
   "id": "ae041544",
   "metadata": {},
   "outputs": [
    {
     "data": {
      "text/plain": [
       "{0, 5, 9, 13, 18, 24, 30, 31, 34, 35, 113}"
      ]
     },
     "execution_count": 55,
     "metadata": {},
     "output_type": "execute_result"
    }
   ],
   "source": [
    "set(user_dict[6775888955])"
   ]
  },
  {
   "cell_type": "code",
   "execution_count": null,
   "id": "fcbfc033",
   "metadata": {},
   "outputs": [],
   "source": []
  },
  {
   "cell_type": "code",
   "execution_count": null,
   "id": "27f15f81",
   "metadata": {},
   "outputs": [],
   "source": []
  },
  {
   "cell_type": "code",
   "execution_count": 47,
   "id": "ce21667a",
   "metadata": {
    "scrolled": true
   },
   "outputs": [
    {
     "data": {
      "text/plain": [
       "array([[[[1., 1., 1., 1., 1., 1., 1., 1., 1., 1., 1., 1., 1., 1., 1.,\n",
       "          1., 1., 1., 1., 1., 1., 1., 1., 1., 1., 1., 1., 1., 1., 1.,\n",
       "          0.]],\n",
       "\n",
       "        [[1., 1., 1., 1., 1., 1., 1., 1., 1., 1., 1., 1., 1., 1., 1.,\n",
       "          1., 1., 1., 1., 1., 1., 1., 1., 1., 1., 1., 1., 1., 1., 1.,\n",
       "          0.]],\n",
       "\n",
       "        [[1., 1., 1., 1., 1., 1., 1., 1., 1., 1., 1., 1., 1., 1., 1.,\n",
       "          1., 1., 1., 1., 1., 1., 1., 1., 1., 1., 1., 1., 1., 1., 1.,\n",
       "          0.]],\n",
       "\n",
       "        [[1., 1., 1., 1., 1., 1., 1., 1., 1., 1., 1., 1., 1., 1., 1.,\n",
       "          1., 1., 1., 1., 1., 1., 1., 1., 1., 1., 1., 1., 1., 1., 1.,\n",
       "          0.]]]])"
      ]
     },
     "execution_count": 47,
     "metadata": {},
     "output_type": "execute_result"
    }
   ],
   "source": [
    "data_storage"
   ]
  },
  {
   "cell_type": "code",
   "execution_count": 44,
   "id": "4563c35a",
   "metadata": {},
   "outputs": [
    {
     "data": {
      "text/plain": [
       "(1, 4)"
      ]
     },
     "execution_count": 44,
     "metadata": {},
     "output_type": "execute_result"
    }
   ],
   "source": [
    "accuracy_matrix[:,:,0].shape"
   ]
  },
  {
   "cell_type": "code",
   "execution_count": 45,
   "id": "9c6a9af3",
   "metadata": {},
   "outputs": [
    {
     "data": {
      "text/plain": [
       "array([[0.96774194, 0.96774194, 0.96774194, 0.96774194]])"
      ]
     },
     "execution_count": 45,
     "metadata": {},
     "output_type": "execute_result"
    }
   ],
   "source": [
    "accuracy_matrix[:,:,0]"
   ]
  },
  {
   "cell_type": "code",
   "execution_count": 46,
   "id": "7cf03d6c",
   "metadata": {},
   "outputs": [
    {
     "ename": "IndexError",
     "evalue": "index 1 is out of bounds for axis 2 with size 1",
     "output_type": "error",
     "traceback": [
      "\u001b[1;31m---------------------------------------------------------------------------\u001b[0m",
      "\u001b[1;31mIndexError\u001b[0m                                Traceback (most recent call last)",
      "\u001b[1;32m~\\AppData\\Local\\Temp/ipykernel_21820/804049394.py\u001b[0m in \u001b[0;36m<module>\u001b[1;34m\u001b[0m\n\u001b[1;32m----> 1\u001b[1;33m \u001b[0maccuracy_matrix\u001b[0m\u001b[1;33m[\u001b[0m\u001b[1;33m:\u001b[0m\u001b[1;33m,\u001b[0m\u001b[1;33m:\u001b[0m\u001b[1;33m,\u001b[0m\u001b[1;36m1\u001b[0m\u001b[1;33m]\u001b[0m\u001b[1;33m\u001b[0m\u001b[1;33m\u001b[0m\u001b[0m\n\u001b[0m",
      "\u001b[1;31mIndexError\u001b[0m: index 1 is out of bounds for axis 2 with size 1"
     ]
    }
   ],
   "source": [
    "accuracy_matrix[:,:,1]"
   ]
  },
  {
   "cell_type": "code",
   "execution_count": null,
   "id": "29247471",
   "metadata": {},
   "outputs": [],
   "source": []
  },
  {
   "cell_type": "code",
   "execution_count": null,
   "id": "90059d32",
   "metadata": {},
   "outputs": [],
   "source": []
  },
  {
   "cell_type": "code",
   "execution_count": null,
   "id": "59ee203e",
   "metadata": {},
   "outputs": [],
   "source": []
  },
  {
   "cell_type": "code",
   "execution_count": null,
   "id": "b601434d",
   "metadata": {},
   "outputs": [],
   "source": []
  },
  {
   "cell_type": "code",
   "execution_count": null,
   "id": "f73d4f28",
   "metadata": {},
   "outputs": [],
   "source": []
  },
  {
   "cell_type": "code",
   "execution_count": null,
   "id": "d12a7213",
   "metadata": {},
   "outputs": [],
   "source": []
  },
  {
   "cell_type": "code",
   "execution_count": null,
   "id": "7b7000e2",
   "metadata": {},
   "outputs": [],
   "source": []
  },
  {
   "cell_type": "code",
   "execution_count": null,
   "id": "b7c2c122",
   "metadata": {},
   "outputs": [],
   "source": []
  },
  {
   "cell_type": "code",
   "execution_count": null,
   "id": "f6c535a3",
   "metadata": {},
   "outputs": [],
   "source": []
  },
  {
   "cell_type": "code",
   "execution_count": null,
   "id": "aeeca9eb",
   "metadata": {},
   "outputs": [],
   "source": []
  },
  {
   "cell_type": "code",
   "execution_count": null,
   "id": "8276b099",
   "metadata": {},
   "outputs": [],
   "source": []
  },
  {
   "cell_type": "code",
   "execution_count": null,
   "id": "35f9aa84",
   "metadata": {},
   "outputs": [],
   "source": []
  },
  {
   "cell_type": "code",
   "execution_count": null,
   "id": "a84cad8d",
   "metadata": {},
   "outputs": [],
   "source": []
  },
  {
   "cell_type": "code",
   "execution_count": null,
   "id": "d33fcb29",
   "metadata": {},
   "outputs": [],
   "source": []
  },
  {
   "cell_type": "code",
   "execution_count": 10,
   "id": "ae817cb3",
   "metadata": {},
   "outputs": [
    {
     "ename": "TypeError",
     "evalue": "exceptions must derive from BaseException",
     "output_type": "error",
     "traceback": [
      "\u001b[1;31m---------------------------------------------------------------------------\u001b[0m",
      "\u001b[1;31mTypeError\u001b[0m                                 Traceback (most recent call last)",
      "\u001b[1;32m~\\AppData\\Local\\Temp/ipykernel_21820/2076066389.py\u001b[0m in \u001b[0;36m<module>\u001b[1;34m\u001b[0m\n\u001b[1;32m----> 1\u001b[1;33m \u001b[1;32mraise\u001b[0m\u001b[1;33m(\u001b[0m\u001b[1;34m\"Dont run\"\u001b[0m\u001b[1;33m)\u001b[0m\u001b[1;33m\u001b[0m\u001b[1;33m\u001b[0m\u001b[0m\n\u001b[0m",
      "\u001b[1;31mTypeError\u001b[0m: exceptions must derive from BaseException"
     ]
    }
   ],
   "source": [
    "raise(\"Dont run\")"
   ]
  },
  {
   "cell_type": "code",
   "execution_count": null,
   "id": "e98b432d",
   "metadata": {},
   "outputs": [],
   "source": [
    "def isHit(activity, query, ths):\n",
    "    \n",
    "    hits = list()\n",
    "    for th in ths:\n",
    "        hit = False\n",
    "        i = 0\n",
    "        for j in range(0,len(activity)):\n",
    "            #print(query[j])\n",
    "            if (abs(query[i] - activity[j])<=th):\n",
    "                i = i + 1\n",
    "            \n",
    "                if i == len(query):\n",
    "                    hit = True\n",
    "                    break\n",
    "        \n",
    "        hits.append(hit)\n",
    "    return hits\n"
   ]
  },
  {
   "cell_type": "code",
   "execution_count": null,
   "id": "d065e588",
   "metadata": {},
   "outputs": [],
   "source": [
    "def uniqueness(queries, domain, k, l, uniq_score, individuals, ths):\n",
    "    '''\n",
    "    queries:\n",
    "    domain:\n",
    "    k: limit \n",
    "    l: current iteration I think, current number of entries more like\n",
    "    individuals: individualAct[Id] = act['FairlyActiveMinutes'].tolist()\n",
    "    '''\n",
    "    \n",
    "    print(queries[0])\n",
    "    print(len(queries))\n",
    "    print(len(individuals.keys()))\n",
    "    \n",
    "    if l > k:\n",
    "        print(\"L > K!!!\")\n",
    "        return uniq_score\n",
    "    \n",
    "    present_queries = []\n",
    "    query_matches = dict()\n",
    "    \n",
    "    for query in queries:\n",
    "        match = dict()\n",
    "        for th in ths:\n",
    "            match[th] = []\n",
    "            \n",
    "        inData = False\n",
    "        #print(query)\n",
    "        for Id in individuals:\n",
    "            ind_act = individuals[Id]\n",
    "                \n",
    "            hits = isHit(ind_act, query, ths)\n",
    "                \n",
    "            for i in range(0,len(ths)):\n",
    "                hit = hits[i]\n",
    "                \n",
    "                if hit:\n",
    "                    match[ths[i]].append(Id)\n",
    "                    inData = True\n",
    "                    #print(ths[i])\n",
    "                    #print(Id)\n",
    "                    #print(match)\n",
    "        if inData:\n",
    "            present_queries.append(query)\n",
    "            query_matches[str(query)] = match\n",
    "            #print(match)\n",
    "    \n",
    "    for i in range(0, len(ths)):\n",
    "        uniquesId = []\n",
    "        th = ths[i]\n",
    "        #print(th)\n",
    "        \n",
    "        for keyquery in query_matches:\n",
    "            match = query_matches[keyquery]\n",
    "            \n",
    "            matchTH = match[th]\n",
    "            #print(keyquery)\n",
    "            #print(matchTH)\n",
    "            if len(list(set(matchTH))) == 1:\n",
    "                #print(\"Unique\")\n",
    "                uniquesId.append(matchTH[0]) \n",
    "        \n",
    "        score = (1.0*len(list(set(uniquesId))))/len(individuals.keys())\n",
    "        uniq_score.append((l,th,score))\n",
    "                        \n",
    "    l = l + 1\n",
    "    newqueries = []\n",
    "    for query in present_queries:  \n",
    "        for val in domain:\n",
    "            newquery = query.copy()\n",
    "            newquery.append(val)\n",
    "            newqueries.append(newquery)\n",
    "                   \n",
    "    return uniqueness(newqueries, domain, k, l, uniq_score, individuals, ths)\n",
    "            "
   ]
  },
  {
   "cell_type": "code",
   "execution_count": null,
   "id": "48915a54",
   "metadata": {},
   "outputs": [],
   "source": [
    "#uniqueness up to 3 readings with th=0 and th=2\n",
    "uniqueScores = list()\n",
    "start_query = [[a] for a in data_act]\n",
    "uniqueScores = uniqueness(start_query, data_act, 3, 1, uniqueScores, individualAct, [0, 2, 5])"
   ]
  },
  {
   "cell_type": "code",
   "execution_count": null,
   "id": "08fcc0ae",
   "metadata": {},
   "outputs": [],
   "source": []
  },
  {
   "cell_type": "code",
   "execution_count": null,
   "id": "4638db24",
   "metadata": {},
   "outputs": [],
   "source": []
  },
  {
   "cell_type": "code",
   "execution_count": null,
   "id": "8ae45956",
   "metadata": {},
   "outputs": [],
   "source": []
  },
  {
   "cell_type": "code",
   "execution_count": null,
   "id": "07186b65",
   "metadata": {},
   "outputs": [],
   "source": []
  }
 ],
 "metadata": {
  "kernelspec": {
   "display_name": "Python 3 (ipykernel)",
   "language": "python",
   "name": "python3"
  },
  "language_info": {
   "codemirror_mode": {
    "name": "ipython",
    "version": 3
   },
   "file_extension": ".py",
   "mimetype": "text/x-python",
   "name": "python",
   "nbconvert_exporter": "python",
   "pygments_lexer": "ipython3",
   "version": "3.7.11"
  }
 },
 "nbformat": 4,
 "nbformat_minor": 5
}
