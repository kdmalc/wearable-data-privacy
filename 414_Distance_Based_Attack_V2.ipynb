{
 "cells": [
  {
   "cell_type": "code",
   "execution_count": 1,
   "id": "f9009d01",
   "metadata": {},
   "outputs": [],
   "source": [
    "import pandas as pd\n",
    "import numpy as np\n",
    "import matplotlib.pyplot as plt\n",
    "import random\n",
    "from scipy.special import rel_entr"
   ]
  },
  {
   "cell_type": "code",
   "execution_count": 2,
   "id": "d51d0153",
   "metadata": {},
   "outputs": [],
   "source": [
    "################## DATA FRAME ##################\n",
    "datafile = 'Data/Fitbit_Kaggle/dailyActivity_merged.csv'\n",
    "all_fields = ['Id', 'ActivityDate', 'TotalSteps', 'TotalDistance', 'TrackerDistance', \n",
    "          'VeryActiveDistance', 'ModeratelyActiveDistance', 'LightActiveDistance', 'SedentaryActiveDistance', \n",
    "          'VeryActiveMinutes', 'FairlyActiveMinutes', 'LightlyActiveMinutes', 'SedentaryMinutes', 'Calories']\n",
    "\n",
    "#pd.set_option('display.max_rows', 100)\n",
    "df = pd.read_csv(datafile, skipinitialspace=True, usecols=all_fields)\n",
    "fields = 'FairlyActiveMinutes'\n",
    "selected_data = df[['Id',fields]]\n",
    "n_rows, n_cols = df.shape"
   ]
  },
  {
   "cell_type": "code",
   "execution_count": 3,
   "id": "0a635b6c",
   "metadata": {},
   "outputs": [
    {
     "data": {
      "text/html": [
       "<div>\n",
       "<style scoped>\n",
       "    .dataframe tbody tr th:only-of-type {\n",
       "        vertical-align: middle;\n",
       "    }\n",
       "\n",
       "    .dataframe tbody tr th {\n",
       "        vertical-align: top;\n",
       "    }\n",
       "\n",
       "    .dataframe thead th {\n",
       "        text-align: right;\n",
       "    }\n",
       "</style>\n",
       "<table border=\"1\" class=\"dataframe\">\n",
       "  <thead>\n",
       "    <tr style=\"text-align: right;\">\n",
       "      <th></th>\n",
       "      <th>Id</th>\n",
       "      <th>FairlyActiveMinutes</th>\n",
       "    </tr>\n",
       "  </thead>\n",
       "  <tbody>\n",
       "    <tr>\n",
       "      <th>0</th>\n",
       "      <td>1503960366</td>\n",
       "      <td>13</td>\n",
       "    </tr>\n",
       "    <tr>\n",
       "      <th>1</th>\n",
       "      <td>1503960366</td>\n",
       "      <td>19</td>\n",
       "    </tr>\n",
       "    <tr>\n",
       "      <th>2</th>\n",
       "      <td>1503960366</td>\n",
       "      <td>11</td>\n",
       "    </tr>\n",
       "    <tr>\n",
       "      <th>3</th>\n",
       "      <td>1503960366</td>\n",
       "      <td>34</td>\n",
       "    </tr>\n",
       "    <tr>\n",
       "      <th>4</th>\n",
       "      <td>1503960366</td>\n",
       "      <td>10</td>\n",
       "    </tr>\n",
       "  </tbody>\n",
       "</table>\n",
       "</div>"
      ],
      "text/plain": [
       "           Id  FairlyActiveMinutes\n",
       "0  1503960366                   13\n",
       "1  1503960366                   19\n",
       "2  1503960366                   11\n",
       "3  1503960366                   34\n",
       "4  1503960366                   10"
      ]
     },
     "execution_count": 3,
     "metadata": {},
     "output_type": "execute_result"
    }
   ],
   "source": [
    "selected_data.head()"
   ]
  },
  {
   "cell_type": "markdown",
   "id": "26c0621a",
   "metadata": {},
   "source": [
    "## Generate attack vectors"
   ]
  },
  {
   "cell_type": "code",
   "execution_count": 4,
   "id": "846917da",
   "metadata": {},
   "outputs": [],
   "source": [
    "#['TotalSteps', 'TotalDistance', 'TrackerDistance', \n",
    "#          'VeryActiveDistance', 'ModeratelyActiveDistance', 'LightActiveDistance', \n",
    "#          'VeryActiveMinutes', 'FairlyActiveMinutes', 'LightlyActiveMinutes', 'SedentaryMinutes', 'Calories']\n",
    "\n",
    "all_IDs = df.Id.unique()\n",
    "num_users = len(all_IDs)\n",
    "\n",
    "user_dict = dict()\n",
    "for idx, user in enumerate(all_IDs):\n",
    "    temp_df = df.loc[df['Id'] == user]\n",
    "    user_dict[user] = temp_df[fields].values"
   ]
  },
  {
   "cell_type": "code",
   "execution_count": 5,
   "id": "ec4b5dee",
   "metadata": {},
   "outputs": [],
   "source": [
    "test_IDs = all_IDs[[0, 1]]  # [0, 5, 6, 10, 11, 15, 16, 20, 25, 30]\n",
    "training_IDs = [ID for ID in all_IDs if ID not in test_IDs]\n",
    "attack_IDs = list(test_IDs) + list(training_IDs[0:2])\n",
    "\n",
    "ths = [0]"
   ]
  },
  {
   "cell_type": "code",
   "execution_count": 6,
   "id": "2982aa39",
   "metadata": {},
   "outputs": [],
   "source": [
    "#attack_IDs = [1503960366]\n",
    "#training_IDs = [5577150313, 6117666160, 6290855005, 6775888955]\n",
    "\n",
    "# Max number of elements for any field\n",
    "max_elements = 31\n",
    "\n",
    "data_storage = np.zeros((len(attack_IDs), len(training_IDs), len(ths), max_elements))\n",
    "accuracy_matrix = np.zeros((len(attack_IDs), len(training_IDs), len(ths)))"
   ]
  },
  {
   "cell_type": "code",
   "execution_count": 8,
   "id": "12f3c912",
   "metadata": {},
   "outputs": [],
   "source": [
    "for i, attack_ID in enumerate(attack_IDs):\n",
    "    for j, training_ID in enumerate(training_IDs):\n",
    "        #for k, training_value in enumerate(user_dict[training_ID]):\n",
    "        for l, th in enumerate(ths):\n",
    "            for m, attack_value in enumerate(user_dict[attack_ID]):\n",
    "                if (abs(np.array(user_dict[training_ID]) - attack_value) <= th).any():\n",
    "                    # Then this given attack value is in the given person's vector\n",
    "                    #print(f\"{attack_value} found in training array: {attack_value in user_dict[training_ID]}\")\n",
    "                    data_storage[i,j,l,m] = 1\n",
    "                else:\n",
    "                    #print(f\"{attack_value} NOT found in training array: {not (attack_value in user_dict[training_ID])}\")\n",
    "                    pass\n",
    "                    \n",
    "            # Once we have established membership for all attack values:\n",
    "            # Calculate the accuracy of that given vector\n",
    "            # E.g. percentage score of how many of attack values were present in given person\n",
    "            accuracy_matrix[i,j,l] = sum(data_storage[i,j,l,:]) / len(user_dict[attack_ID])\n",
    "        #print(\"--------------------------------------------\")\n",
    "            "
   ]
  },
  {
   "cell_type": "code",
   "execution_count": 11,
   "id": "8e000d71",
   "metadata": {},
   "outputs": [
    {
     "data": {
      "text/plain": [
       "(4, 31, 1)"
      ]
     },
     "execution_count": 11,
     "metadata": {},
     "output_type": "execute_result"
    }
   ],
   "source": [
    "accuracy_matrix.shape"
   ]
  },
  {
   "cell_type": "code",
   "execution_count": 10,
   "id": "6ecfad7b",
   "metadata": {},
   "outputs": [
    {
     "data": {
      "text/plain": [
       "array([[0.32258065, 0.19354839, 0.12903226, 0.5483871 , 0.09677419,\n",
       "        0.22580645, 0.32258065, 0.41935484, 0.12903226, 0.32258065,\n",
       "        0.32258065, 0.06451613, 0.5483871 , 0.51612903, 0.16129032,\n",
       "        0.58064516, 0.38709677, 0.38709677, 0.4516129 , 0.16129032,\n",
       "        0.09677419, 0.32258065, 0.51612903, 0.58064516, 0.38709677,\n",
       "        0.41935484, 0.25806452, 0.5483871 , 0.29032258, 0.19354839,\n",
       "        0.4516129 ],\n",
       "       [0.80645161, 0.77419355, 0.77419355, 0.87096774, 0.74193548,\n",
       "        0.83870968, 0.77419355, 0.90322581, 0.77419355, 0.77419355,\n",
       "        0.80645161, 0.77419355, 0.80645161, 0.83870968, 0.80645161,\n",
       "        0.83870968, 0.80645161, 0.83870968, 0.80645161, 0.80645161,\n",
       "        0.74193548, 0.80645161, 0.83870968, 0.83870968, 0.83870968,\n",
       "        0.87096774, 0.80645161, 0.90322581, 0.93548387, 0.74193548,\n",
       "        0.87096774],\n",
       "       [1.        , 0.4       , 0.4       , 0.46666667, 0.3       ,\n",
       "        0.4       , 0.43333333, 0.43333333, 0.4       , 0.5       ,\n",
       "        0.36666667, 0.36666667, 0.43333333, 0.5       , 0.43333333,\n",
       "        0.5       , 0.5       , 0.53333333, 0.43333333, 0.46666667,\n",
       "        0.33333333, 0.36666667, 0.6       , 0.6       , 0.63333333,\n",
       "        0.56666667, 0.4       , 0.6       , 0.46666667, 0.3       ,\n",
       "        0.63333333],\n",
       "       [0.96774194, 1.        , 0.90322581, 0.93548387, 0.90322581,\n",
       "        0.90322581, 0.93548387, 0.93548387, 0.96774194, 0.93548387,\n",
       "        0.90322581, 0.87096774, 0.96774194, 0.93548387, 0.90322581,\n",
       "        0.96774194, 0.93548387, 0.93548387, 0.90322581, 0.90322581,\n",
       "        0.90322581, 0.90322581, 0.96774194, 0.96774194, 0.93548387,\n",
       "        0.96774194, 0.87096774, 1.        , 0.90322581, 0.90322581,\n",
       "        1.        ]])"
      ]
     },
     "execution_count": 10,
     "metadata": {},
     "output_type": "execute_result"
    }
   ],
   "source": [
    "accuracy_matrix[:,:,0]"
   ]
  },
  {
   "cell_type": "code",
   "execution_count": 20,
   "id": "12d97208",
   "metadata": {},
   "outputs": [],
   "source": [
    "label_matrix = np.zeros((accuracy_matrix.shape))"
   ]
  },
  {
   "cell_type": "code",
   "execution_count": 23,
   "id": "31cd96e0",
   "metadata": {},
   "outputs": [
    {
     "name": "stdout",
     "output_type": "stream",
     "text": [
      "Accuracy Matrix: 1.0 VS Label Matrix: 1.0\n",
      "Accuracy Matrix: 1.0 VS Label Matrix: 1.0\n"
     ]
    }
   ],
   "source": [
    "for attack_idx, attack_ID in enumerate(attack_IDs):\n",
    "    if attack_ID in training_IDs:\n",
    "        label_idx = training_IDs.index(attack_ID)\n",
    "        for j in range(len(ths)):\n",
    "            label_matrix[attack_idx, label_idx, j] = 1\n",
    "            print(f\"Accuracy Matrix: {accuracy_matrix[attack_idx, label_idx, j]} VS Label Matrix: {label_matrix[attack_idx, label_idx, j]}\")"
   ]
  },
  {
   "cell_type": "markdown",
   "id": "14dae700",
   "metadata": {},
   "source": [
    "As you can see from the above, when the attack vector was one of the vectors taken from the training set, the accuracy matrix generated scores of 1 (100%, e.g. 100% of the elements from the attack vector matched with its training vector correspondent), as would be expected.  However, the accuracy matrix also reports scores of 1 for a few other vectors, namely ones where the attack vector matched perfectly to the training vector, but it was not that training vector.\n",
    "<br>\n",
    "<br>\n",
    "I have not implemented multiple threshold values yet.\n",
    "<br>\n",
    "<br>\n",
    "The way this code was executed is that it simply subtracts the current attack value (e.g. the current value pulled from the given attack vector) from the full training vector, and if any of the resulting values in the new array are less than or equal to the threshold (for now, th=0 only), then it counts the attack value as found in the training vector.  This process is repeated for each training vector, in order to generate a boolean matrix of \"hits\" and \"misses\" depending on whether or not each attack value was found in each training vector.\n",
    "> (abs(np.array(user_dict[training_ID]) - attack_value) <= th).any()\n"
   ]
  },
  {
   "cell_type": "code",
   "execution_count": null,
   "id": "43a2daae",
   "metadata": {},
   "outputs": [],
   "source": []
  }
 ],
 "metadata": {
  "kernelspec": {
   "display_name": "Python 3 (ipykernel)",
   "language": "python",
   "name": "python3"
  },
  "language_info": {
   "codemirror_mode": {
    "name": "ipython",
    "version": 3
   },
   "file_extension": ".py",
   "mimetype": "text/x-python",
   "name": "python",
   "nbconvert_exporter": "python",
   "pygments_lexer": "ipython3",
   "version": "3.7.11"
  }
 },
 "nbformat": 4,
 "nbformat_minor": 5
}
